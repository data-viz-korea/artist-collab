{
 "cells": [
  {
   "cell_type": "markdown",
   "metadata": {},
   "source": [
    "# Billboard Year-End Hot 100: Artist Collaboration Network"
   ]
  },
  {
   "cell_type": "markdown",
   "metadata": {},
   "source": [
    "This notebook creates a network visualization of Billboard Hot 100 artists' collaboration, from 1999 to 2019 based on [this Kaggle dataset by Daniel DeFoe](https://www.kaggle.com/danield2255/data-on-songs-from-billboard-19992019).\n",
    "\n",
    "\n",
    "A visualization of 1965-2015 data is [here](https://suzinyou.github.io/posts/chart.html) based on a Kaggle dataset that I can no longer find :(.\n",
    "\n",
    "\n",
    "* Node size: number of occurrence of the artist\n",
    "* Node color: number of collaborating artists\n",
    "\n",
    "Scroll down to see how it was plotted."
   ]
  },
  {
   "cell_type": "markdown",
   "metadata": {},
   "source": [
    "## Imports"
   ]
  },
  {
   "cell_type": "code",
   "execution_count": 1,
   "metadata": {
    "tags": []
   },
   "outputs": [],
   "source": [
    "from itertools import chain, combinations\n",
    "import re\n",
    "import numpy as np\n",
    "import pandas as pd\n",
    "import matplotlib.pyplot as plt\n",
    "import seaborn as sns\n",
    "from IPython.display import display, Markdown, IFrame\n",
    "\n",
    "import networkx as nx\n",
    "import plotly.graph_objects as go"
   ]
  },
  {
   "cell_type": "code",
   "execution_count": 2,
   "metadata": {},
   "outputs": [],
   "source": [
    "sns.set_style('whitegrid')"
   ]
  },
  {
   "cell_type": "markdown",
   "metadata": {},
   "source": [
    "## Load data"
   ]
  },
  {
   "cell_type": "code",
   "execution_count": 3,
   "metadata": {},
   "outputs": [
    {
     "data": {
      "text/plain": [
       "Index(['Artists', 'Name', 'Weekly.rank', 'Peak.position', 'Weeks.on.chart',\n",
       "       'Week', 'Date', 'Genre', 'Writing.Credits', 'Lyrics', 'Features'],\n",
       "      dtype='object')"
      ]
     },
     "execution_count": 3,
     "metadata": {},
     "output_type": "execute_result"
    }
   ],
   "source": [
    "df = pd.read_csv('../data/billboardHot100_1999-2019.csv', index_col=0, parse_dates=['Week', 'Date'])\n",
    "#df.drop(['Source', 'Song'], axis=1, inplace=True)\n",
    "df.columns"
   ]
  },
  {
   "cell_type": "code",
   "execution_count": 40,
   "metadata": {},
   "outputs": [
    {
     "data": {
      "text/html": [
       "<div>\n",
       "<style scoped>\n",
       "    .dataframe tbody tr th:only-of-type {\n",
       "        vertical-align: middle;\n",
       "    }\n",
       "\n",
       "    .dataframe tbody tr th {\n",
       "        vertical-align: top;\n",
       "    }\n",
       "\n",
       "    .dataframe thead th {\n",
       "        text-align: right;\n",
       "    }\n",
       "</style>\n",
       "<table border=\"1\" class=\"dataframe\">\n",
       "  <thead>\n",
       "    <tr style=\"text-align: right;\">\n",
       "      <th></th>\n",
       "      <th>Artists</th>\n",
       "      <th>Name</th>\n",
       "      <th>Weekly.rank</th>\n",
       "      <th>Peak.position</th>\n",
       "      <th>Weeks.on.chart</th>\n",
       "      <th>Week</th>\n",
       "      <th>Date</th>\n",
       "      <th>Genre</th>\n",
       "      <th>Writing.Credits</th>\n",
       "      <th>Lyrics</th>\n",
       "      <th>Features</th>\n",
       "      <th>Collaborators</th>\n",
       "      <th>Year</th>\n",
       "      <th>Month</th>\n",
       "      <th>YearHalf</th>\n",
       "    </tr>\n",
       "  </thead>\n",
       "  <tbody>\n",
       "    <tr>\n",
       "      <th>1</th>\n",
       "      <td>Lil Nas,</td>\n",
       "      <td>Old Town Road</td>\n",
       "      <td>1</td>\n",
       "      <td>1.0</td>\n",
       "      <td>7.0</td>\n",
       "      <td>2019-07-06</td>\n",
       "      <td>2019-04-05</td>\n",
       "      <td>Country,Atlanta,Alternative Country,Hip-Hop,Tr...</td>\n",
       "      <td>Jozzy, Atticus ross, Trent reznor, Billy ray c...</td>\n",
       "      <td>Old Town Road Remix \\nOh, oh-oh\\nOh\\nYeah, I'm...</td>\n",
       "      <td>Billy Ray Cyrus</td>\n",
       "      <td>[Lil Nas, Billy Ray Cyrus]</td>\n",
       "      <td>2019</td>\n",
       "      <td>7</td>\n",
       "      <td>2</td>\n",
       "    </tr>\n",
       "    <tr>\n",
       "      <th>2</th>\n",
       "      <td>Shawn Mendes, Camila Cabello</td>\n",
       "      <td>Senorita</td>\n",
       "      <td>2</td>\n",
       "      <td>NaN</td>\n",
       "      <td>NaN</td>\n",
       "      <td>2019-07-06</td>\n",
       "      <td>2019-06-21</td>\n",
       "      <td>Pop</td>\n",
       "      <td>Cashmere cat, Jack patterson, Charli xcx, Benn...</td>\n",
       "      <td>Senorita \\nI love it when you call me senorita...</td>\n",
       "      <td>NaN</td>\n",
       "      <td>[Shawn Mendes, Camila Cabello]</td>\n",
       "      <td>2019</td>\n",
       "      <td>7</td>\n",
       "      <td>2</td>\n",
       "    </tr>\n",
       "    <tr>\n",
       "      <th>3</th>\n",
       "      <td>Billie Eilish</td>\n",
       "      <td>Bad Guy</td>\n",
       "      <td>3</td>\n",
       "      <td>2.0</td>\n",
       "      <td>13.0</td>\n",
       "      <td>2019-07-06</td>\n",
       "      <td>2019-03-29</td>\n",
       "      <td>Hip-Hop,Dark Pop,House,Trap,Memes,Alternative ...</td>\n",
       "      <td>Billie eilish, Finneas</td>\n",
       "      <td>bad guy \\nWhite shirt now red, my bloody nose\\...</td>\n",
       "      <td>NaN</td>\n",
       "      <td>[Billie Eilish]</td>\n",
       "      <td>2019</td>\n",
       "      <td>7</td>\n",
       "      <td>2</td>\n",
       "    </tr>\n",
       "    <tr>\n",
       "      <th>4</th>\n",
       "      <td>Khalid</td>\n",
       "      <td>Talk</td>\n",
       "      <td>4</td>\n",
       "      <td>3.0</td>\n",
       "      <td>20.0</td>\n",
       "      <td>2019-07-06</td>\n",
       "      <td>2019-02-07</td>\n",
       "      <td>Synth-Pop,Pop</td>\n",
       "      <td>Howard lawrence, Guy lawrence, Khalid</td>\n",
       "      <td>Talk \\nCan we just talk? Can we just talk?\\nTa...</td>\n",
       "      <td>NaN</td>\n",
       "      <td>[Khalid]</td>\n",
       "      <td>2019</td>\n",
       "      <td>7</td>\n",
       "      <td>2</td>\n",
       "    </tr>\n",
       "    <tr>\n",
       "      <th>5</th>\n",
       "      <td>Ed Sheeran, Justin Bieber</td>\n",
       "      <td>I Don't Care</td>\n",
       "      <td>5</td>\n",
       "      <td>2.0</td>\n",
       "      <td>7.0</td>\n",
       "      <td>2019-07-06</td>\n",
       "      <td>2019-05-10</td>\n",
       "      <td>Canada,UK,Dance,Dance-Pop,Pop</td>\n",
       "      <td>Ed sheeran, Justin bieber, Shellback, Max mart...</td>\n",
       "      <td>I Don't Care \\nI'm at a party I don't wanna be...</td>\n",
       "      <td>NaN</td>\n",
       "      <td>[Ed Sheeran, Justin Bieber]</td>\n",
       "      <td>2019</td>\n",
       "      <td>7</td>\n",
       "      <td>2</td>\n",
       "    </tr>\n",
       "  </tbody>\n",
       "</table>\n",
       "</div>"
      ],
      "text/plain": [
       "                        Artists           Name  Weekly.rank  Peak.position  \\\n",
       "1                      Lil Nas,  Old Town Road            1            1.0   \n",
       "2  Shawn Mendes, Camila Cabello       Senorita            2            NaN   \n",
       "3                 Billie Eilish        Bad Guy            3            2.0   \n",
       "4                        Khalid           Talk            4            3.0   \n",
       "5     Ed Sheeran, Justin Bieber   I Don't Care            5            2.0   \n",
       "\n",
       "   Weeks.on.chart       Week       Date  \\\n",
       "1             7.0 2019-07-06 2019-04-05   \n",
       "2             NaN 2019-07-06 2019-06-21   \n",
       "3            13.0 2019-07-06 2019-03-29   \n",
       "4            20.0 2019-07-06 2019-02-07   \n",
       "5             7.0 2019-07-06 2019-05-10   \n",
       "\n",
       "                                               Genre  \\\n",
       "1  Country,Atlanta,Alternative Country,Hip-Hop,Tr...   \n",
       "2                                                Pop   \n",
       "3  Hip-Hop,Dark Pop,House,Trap,Memes,Alternative ...   \n",
       "4                                      Synth-Pop,Pop   \n",
       "5                      Canada,UK,Dance,Dance-Pop,Pop   \n",
       "\n",
       "                                     Writing.Credits  \\\n",
       "1  Jozzy, Atticus ross, Trent reznor, Billy ray c...   \n",
       "2  Cashmere cat, Jack patterson, Charli xcx, Benn...   \n",
       "3                             Billie eilish, Finneas   \n",
       "4              Howard lawrence, Guy lawrence, Khalid   \n",
       "5  Ed sheeran, Justin bieber, Shellback, Max mart...   \n",
       "\n",
       "                                              Lyrics         Features  \\\n",
       "1  Old Town Road Remix \\nOh, oh-oh\\nOh\\nYeah, I'm...  Billy Ray Cyrus   \n",
       "2  Senorita \\nI love it when you call me senorita...              NaN   \n",
       "3  bad guy \\nWhite shirt now red, my bloody nose\\...              NaN   \n",
       "4  Talk \\nCan we just talk? Can we just talk?\\nTa...              NaN   \n",
       "5  I Don't Care \\nI'm at a party I don't wanna be...              NaN   \n",
       "\n",
       "                    Collaborators  Year  Month  YearHalf  \n",
       "1      [Lil Nas, Billy Ray Cyrus]  2019      7         2  \n",
       "2  [Shawn Mendes, Camila Cabello]  2019      7         2  \n",
       "3                 [Billie Eilish]  2019      7         2  \n",
       "4                        [Khalid]  2019      7         2  \n",
       "5     [Ed Sheeran, Justin Bieber]  2019      7         2  "
      ]
     },
     "execution_count": 40,
     "metadata": {},
     "output_type": "execute_result"
    }
   ],
   "source": [
    "df.head()"
   ]
  },
  {
   "cell_type": "code",
   "execution_count": 5,
   "metadata": {},
   "outputs": [
    {
     "data": {
      "text/html": [
       "<div>\n",
       "<style scoped>\n",
       "    .dataframe tbody tr th:only-of-type {\n",
       "        vertical-align: middle;\n",
       "    }\n",
       "\n",
       "    .dataframe tbody tr th {\n",
       "        vertical-align: top;\n",
       "    }\n",
       "\n",
       "    .dataframe thead th {\n",
       "        text-align: right;\n",
       "    }\n",
       "</style>\n",
       "<table border=\"1\" class=\"dataframe\">\n",
       "  <thead>\n",
       "    <tr style=\"text-align: right;\">\n",
       "      <th></th>\n",
       "      <th>Weekly.rank</th>\n",
       "      <th>Peak.position</th>\n",
       "      <th>Weeks.on.chart</th>\n",
       "    </tr>\n",
       "  </thead>\n",
       "  <tbody>\n",
       "    <tr>\n",
       "      <th>count</th>\n",
       "      <td>97225.000000</td>\n",
       "      <td>90156.00000</td>\n",
       "      <td>90156.000000</td>\n",
       "    </tr>\n",
       "    <tr>\n",
       "      <th>mean</th>\n",
       "      <td>50.452373</td>\n",
       "      <td>36.58665</td>\n",
       "      <td>12.542948</td>\n",
       "    </tr>\n",
       "    <tr>\n",
       "      <th>std</th>\n",
       "      <td>28.816813</td>\n",
       "      <td>27.36506</td>\n",
       "      <td>9.123191</td>\n",
       "    </tr>\n",
       "    <tr>\n",
       "      <th>min</th>\n",
       "      <td>1.000000</td>\n",
       "      <td>1.00000</td>\n",
       "      <td>0.000000</td>\n",
       "    </tr>\n",
       "    <tr>\n",
       "      <th>25%</th>\n",
       "      <td>26.000000</td>\n",
       "      <td>11.00000</td>\n",
       "      <td>6.000000</td>\n",
       "    </tr>\n",
       "    <tr>\n",
       "      <th>50%</th>\n",
       "      <td>50.000000</td>\n",
       "      <td>33.00000</td>\n",
       "      <td>11.000000</td>\n",
       "    </tr>\n",
       "    <tr>\n",
       "      <th>75%</th>\n",
       "      <td>75.000000</td>\n",
       "      <td>59.00000</td>\n",
       "      <td>17.000000</td>\n",
       "    </tr>\n",
       "    <tr>\n",
       "      <th>max</th>\n",
       "      <td>100.000000</td>\n",
       "      <td>100.00000</td>\n",
       "      <td>87.000000</td>\n",
       "    </tr>\n",
       "  </tbody>\n",
       "</table>\n",
       "</div>"
      ],
      "text/plain": [
       "        Weekly.rank  Peak.position  Weeks.on.chart\n",
       "count  97225.000000    90156.00000    90156.000000\n",
       "mean      50.452373       36.58665       12.542948\n",
       "std       28.816813       27.36506        9.123191\n",
       "min        1.000000        1.00000        0.000000\n",
       "25%       26.000000       11.00000        6.000000\n",
       "50%       50.000000       33.00000       11.000000\n",
       "75%       75.000000       59.00000       17.000000\n",
       "max      100.000000      100.00000       87.000000"
      ]
     },
     "execution_count": 5,
     "metadata": {},
     "output_type": "execute_result"
    }
   ],
   "source": [
    "df.describe()"
   ]
  },
  {
   "cell_type": "code",
   "execution_count": 4,
   "metadata": {},
   "outputs": [
    {
     "data": {
      "text/markdown": [
       "Data range: 1999-07-12 00:00:00~2019-07-06 00:00:00"
      ],
      "text/plain": [
       "<IPython.core.display.Markdown object>"
      ]
     },
     "metadata": {},
     "output_type": "display_data"
    }
   ],
   "source": [
    "display(Markdown(f\"Data range: {df.Week.min()}~{df.Week.max()}\"))"
   ]
  },
  {
   "cell_type": "markdown",
   "metadata": {},
   "source": [
    "# Data Cleaning Notes\n",
    "\n",
    "Issues and remedies.\n",
    "* There are 253 songs with incorrect release dates, lyrics, and possibly writing credits.\n",
    "    * We'll have to scrape for the correct information.\n",
    "* Some artists' names have been parsed wrong. For example, Ne-yo consistently appears as just `Ne`. \n",
    "    * We can probably use song names to infer the correct artist names, df[(df.Name=='Let Me Love You') & (df.Artists=='Ne')].head()but this will also require external data.\n",
    "    \n",
    "\n",
    "**Example.**  Ne-yo's Let Me Love You has the `Date`, `Genre`, `Writing.Credits`, and `Lyrics` of Ariana Grande's 2016 song of the same title."
   ]
  },
  {
   "cell_type": "code",
   "execution_count": 62,
   "metadata": {},
   "outputs": [
    {
     "data": {
      "text/html": [
       "<div>\n",
       "<style scoped>\n",
       "    .dataframe tbody tr th:only-of-type {\n",
       "        vertical-align: middle;\n",
       "    }\n",
       "\n",
       "    .dataframe tbody tr th {\n",
       "        vertical-align: top;\n",
       "    }\n",
       "\n",
       "    .dataframe thead th {\n",
       "        text-align: right;\n",
       "    }\n",
       "</style>\n",
       "<table border=\"1\" class=\"dataframe\">\n",
       "  <thead>\n",
       "    <tr style=\"text-align: right;\">\n",
       "      <th></th>\n",
       "      <th>Artists</th>\n",
       "      <th>Name</th>\n",
       "      <th>Weekly.rank</th>\n",
       "      <th>Peak.position</th>\n",
       "      <th>Weeks.on.chart</th>\n",
       "      <th>Week</th>\n",
       "      <th>Date</th>\n",
       "      <th>Genre</th>\n",
       "      <th>Writing.Credits</th>\n",
       "      <th>Lyrics</th>\n",
       "      <th>Features</th>\n",
       "      <th>Collaborators</th>\n",
       "    </tr>\n",
       "  </thead>\n",
       "  <tbody>\n",
       "    <tr>\n",
       "      <th>31524</th>\n",
       "      <td>Ne</td>\n",
       "      <td>Let Me Love You</td>\n",
       "      <td>47</td>\n",
       "      <td>6.0</td>\n",
       "      <td>28.0</td>\n",
       "      <td>2013-02-22</td>\n",
       "      <td>2016-04-18</td>\n",
       "      <td>Trap,R&amp;;B,Rap,Pop</td>\n",
       "      <td>Ob obrien, Fki 1st, Jeremih, Mr franks, Tbhits...</td>\n",
       "      <td>Let Me Love You \\nI just broke up with my ex\\n...</td>\n",
       "      <td>NaN</td>\n",
       "      <td>[Ne]</td>\n",
       "    </tr>\n",
       "    <tr>\n",
       "      <th>31612</th>\n",
       "      <td>Ne</td>\n",
       "      <td>Let Me Love You</td>\n",
       "      <td>38</td>\n",
       "      <td>6.0</td>\n",
       "      <td>27.0</td>\n",
       "      <td>2013-02-15</td>\n",
       "      <td>2016-04-18</td>\n",
       "      <td>Trap,R&amp;;B,Rap,Pop</td>\n",
       "      <td>Ob obrien, Fki 1st, Jeremih, Mr franks, Tbhits...</td>\n",
       "      <td>Let Me Love You \\nI just broke up with my ex\\n...</td>\n",
       "      <td>NaN</td>\n",
       "      <td>[Ne]</td>\n",
       "    </tr>\n",
       "    <tr>\n",
       "      <th>31706</th>\n",
       "      <td>Ne</td>\n",
       "      <td>Let Me Love You</td>\n",
       "      <td>35</td>\n",
       "      <td>6.0</td>\n",
       "      <td>26.0</td>\n",
       "      <td>2013-02-08</td>\n",
       "      <td>2016-04-18</td>\n",
       "      <td>Trap,R&amp;;B,Rap,Pop</td>\n",
       "      <td>Ob obrien, Fki 1st, Jeremih, Mr franks, Tbhits...</td>\n",
       "      <td>Let Me Love You \\nI just broke up with my ex\\n...</td>\n",
       "      <td>NaN</td>\n",
       "      <td>[Ne]</td>\n",
       "    </tr>\n",
       "    <tr>\n",
       "      <th>31800</th>\n",
       "      <td>Ne</td>\n",
       "      <td>Let Me Love You</td>\n",
       "      <td>33</td>\n",
       "      <td>6.0</td>\n",
       "      <td>25.0</td>\n",
       "      <td>2013-02-01</td>\n",
       "      <td>2016-04-18</td>\n",
       "      <td>Trap,R&amp;;B,Rap,Pop</td>\n",
       "      <td>Ob obrien, Fki 1st, Jeremih, Mr franks, Tbhits...</td>\n",
       "      <td>Let Me Love You \\nI just broke up with my ex\\n...</td>\n",
       "      <td>NaN</td>\n",
       "      <td>[Ne]</td>\n",
       "    </tr>\n",
       "    <tr>\n",
       "      <th>31887</th>\n",
       "      <td>Ne</td>\n",
       "      <td>Let Me Love You</td>\n",
       "      <td>24</td>\n",
       "      <td>6.0</td>\n",
       "      <td>24.0</td>\n",
       "      <td>2013-01-25</td>\n",
       "      <td>2016-04-18</td>\n",
       "      <td>Trap,R&amp;;B,Rap,Pop</td>\n",
       "      <td>Ob obrien, Fki 1st, Jeremih, Mr franks, Tbhits...</td>\n",
       "      <td>Let Me Love You \\nI just broke up with my ex\\n...</td>\n",
       "      <td>NaN</td>\n",
       "      <td>[Ne]</td>\n",
       "    </tr>\n",
       "  </tbody>\n",
       "</table>\n",
       "</div>"
      ],
      "text/plain": [
       "      Artists             Name  Weekly.rank  Peak.position  Weeks.on.chart  \\\n",
       "31524      Ne  Let Me Love You           47            6.0            28.0   \n",
       "31612      Ne  Let Me Love You           38            6.0            27.0   \n",
       "31706      Ne  Let Me Love You           35            6.0            26.0   \n",
       "31800      Ne  Let Me Love You           33            6.0            25.0   \n",
       "31887      Ne  Let Me Love You           24            6.0            24.0   \n",
       "\n",
       "            Week       Date              Genre  \\\n",
       "31524 2013-02-22 2016-04-18  Trap,R&;B,Rap,Pop   \n",
       "31612 2013-02-15 2016-04-18  Trap,R&;B,Rap,Pop   \n",
       "31706 2013-02-08 2016-04-18  Trap,R&;B,Rap,Pop   \n",
       "31800 2013-02-01 2016-04-18  Trap,R&;B,Rap,Pop   \n",
       "31887 2013-01-25 2016-04-18  Trap,R&;B,Rap,Pop   \n",
       "\n",
       "                                         Writing.Credits  \\\n",
       "31524  Ob obrien, Fki 1st, Jeremih, Mr franks, Tbhits...   \n",
       "31612  Ob obrien, Fki 1st, Jeremih, Mr franks, Tbhits...   \n",
       "31706  Ob obrien, Fki 1st, Jeremih, Mr franks, Tbhits...   \n",
       "31800  Ob obrien, Fki 1st, Jeremih, Mr franks, Tbhits...   \n",
       "31887  Ob obrien, Fki 1st, Jeremih, Mr franks, Tbhits...   \n",
       "\n",
       "                                                  Lyrics Features  \\\n",
       "31524  Let Me Love You \\nI just broke up with my ex\\n...      NaN   \n",
       "31612  Let Me Love You \\nI just broke up with my ex\\n...      NaN   \n",
       "31706  Let Me Love You \\nI just broke up with my ex\\n...      NaN   \n",
       "31800  Let Me Love You \\nI just broke up with my ex\\n...      NaN   \n",
       "31887  Let Me Love You \\nI just broke up with my ex\\n...      NaN   \n",
       "\n",
       "      Collaborators  \n",
       "31524          [Ne]  \n",
       "31612          [Ne]  \n",
       "31706          [Ne]  \n",
       "31800          [Ne]  \n",
       "31887          [Ne]  "
      ]
     },
     "metadata": {},
     "output_type": "display_data"
    },
    {
     "data": {
      "text/html": [
       "<div>\n",
       "<style scoped>\n",
       "    .dataframe tbody tr th:only-of-type {\n",
       "        vertical-align: middle;\n",
       "    }\n",
       "\n",
       "    .dataframe tbody tr th {\n",
       "        vertical-align: top;\n",
       "    }\n",
       "\n",
       "    .dataframe thead th {\n",
       "        text-align: right;\n",
       "    }\n",
       "</style>\n",
       "<table border=\"1\" class=\"dataframe\">\n",
       "  <thead>\n",
       "    <tr style=\"text-align: right;\">\n",
       "      <th></th>\n",
       "      <th>Artists</th>\n",
       "      <th>Name</th>\n",
       "      <th>Weekly.rank</th>\n",
       "      <th>Peak.position</th>\n",
       "      <th>Weeks.on.chart</th>\n",
       "      <th>Week</th>\n",
       "      <th>Date</th>\n",
       "      <th>Genre</th>\n",
       "      <th>Writing.Credits</th>\n",
       "      <th>Lyrics</th>\n",
       "      <th>Features</th>\n",
       "      <th>Collaborators</th>\n",
       "    </tr>\n",
       "  </thead>\n",
       "  <tbody>\n",
       "    <tr>\n",
       "      <th>16021</th>\n",
       "      <td>Ariana Grande</td>\n",
       "      <td>Let Me Love You</td>\n",
       "      <td>99</td>\n",
       "      <td>NaN</td>\n",
       "      <td>NaN</td>\n",
       "      <td>2016-05-07</td>\n",
       "      <td>2016-04-18</td>\n",
       "      <td>Trap,R&amp;;B,Rap,Pop</td>\n",
       "      <td>Ob obrien, Fki 1st, Jeremih, Mr franks, Tbhits...</td>\n",
       "      <td>Let Me Love You \\nI just broke up with my ex\\n...</td>\n",
       "      <td>Lil Wayne</td>\n",
       "      <td>[Ariana Grande, Lil Wayne]</td>\n",
       "    </tr>\n",
       "  </tbody>\n",
       "</table>\n",
       "</div>"
      ],
      "text/plain": [
       "             Artists             Name  Weekly.rank  Peak.position  \\\n",
       "16021  Ariana Grande  Let Me Love You           99            NaN   \n",
       "\n",
       "       Weeks.on.chart       Week       Date              Genre  \\\n",
       "16021             NaN 2016-05-07 2016-04-18  Trap,R&;B,Rap,Pop   \n",
       "\n",
       "                                         Writing.Credits  \\\n",
       "16021  Ob obrien, Fki 1st, Jeremih, Mr franks, Tbhits...   \n",
       "\n",
       "                                                  Lyrics   Features  \\\n",
       "16021  Let Me Love You \\nI just broke up with my ex\\n...  Lil Wayne   \n",
       "\n",
       "                    Collaborators  \n",
       "16021  [Ariana Grande, Lil Wayne]  "
      ]
     },
     "metadata": {},
     "output_type": "display_data"
    }
   ],
   "source": [
    "filter_lmlu = df.Name=='Let Me Love You'\n",
    "display(df[filter_lmlu & (df.Artists=='Ne')].head())\n",
    "display(df[filter_lmlu & (df.Artists=='Ariana Grande')].head())"
   ]
  },
  {
   "cell_type": "markdown",
   "metadata": {},
   "source": [
    "All songs with incorrect release dates (and other info)"
   ]
  },
  {
   "cell_type": "code",
   "execution_count": 64,
   "metadata": {},
   "outputs": [
    {
     "data": {
      "text/html": [
       "<div>\n",
       "<style scoped>\n",
       "    .dataframe tbody tr th:only-of-type {\n",
       "        vertical-align: middle;\n",
       "    }\n",
       "\n",
       "    .dataframe tbody tr th {\n",
       "        vertical-align: top;\n",
       "    }\n",
       "\n",
       "    .dataframe thead th {\n",
       "        text-align: right;\n",
       "    }\n",
       "</style>\n",
       "<table border=\"1\" class=\"dataframe\">\n",
       "  <thead>\n",
       "    <tr style=\"text-align: right;\">\n",
       "      <th></th>\n",
       "      <th>Name</th>\n",
       "      <th>Artists</th>\n",
       "      <th>Weekly.rank</th>\n",
       "      <th>Peak.position</th>\n",
       "      <th>Weeks.on.chart</th>\n",
       "      <th>Week</th>\n",
       "      <th>Date</th>\n",
       "      <th>Genre</th>\n",
       "      <th>Writing.Credits</th>\n",
       "      <th>Lyrics</th>\n",
       "      <th>Features</th>\n",
       "      <th>Collaborators</th>\n",
       "    </tr>\n",
       "  </thead>\n",
       "  <tbody>\n",
       "    <tr>\n",
       "      <th>64</th>\n",
       "      <td>5 Star</td>\n",
       "      <td>Yo Gotti</td>\n",
       "      <td>84</td>\n",
       "      <td>79.0</td>\n",
       "      <td>2.0</td>\n",
       "      <td>2009-12-03</td>\n",
       "      <td>2012-01-10</td>\n",
       "      <td>Remix,Rap</td>\n",
       "      <td>Yo gotti, Gucci mane, Nicki minaj, Trina</td>\n",
       "      <td>5 Star Remix \\nChea! Yeah\\nAy, you know I'm lo...</td>\n",
       "      <td>None</td>\n",
       "      <td>[Yo Gotti]</td>\n",
       "    </tr>\n",
       "    <tr>\n",
       "      <th>81</th>\n",
       "      <td>8th Of November</td>\n",
       "      <td>Big, Rich</td>\n",
       "      <td>94</td>\n",
       "      <td>94.0</td>\n",
       "      <td>2.0</td>\n",
       "      <td>2006-07-26</td>\n",
       "      <td>2014-01-01</td>\n",
       "      <td>Country</td>\n",
       "      <td>None</td>\n",
       "      <td>8th of November \\nSaid goodbye to his momma as...</td>\n",
       "      <td>None</td>\n",
       "      <td>[Big, Rich]</td>\n",
       "    </tr>\n",
       "    <tr>\n",
       "      <th>98</th>\n",
       "      <td>A House Is Not A Home</td>\n",
       "      <td>Glee Cast</td>\n",
       "      <td>70</td>\n",
       "      <td>NaN</td>\n",
       "      <td>NaN</td>\n",
       "      <td>2010-05-13</td>\n",
       "      <td>2010-05-18</td>\n",
       "      <td>TV,Soundtrack,Screen,Cover,Mashup,Pop</td>\n",
       "      <td>Hal david, Burt bacharach</td>\n",
       "      <td>A House Is Not a Home \\nOne less bell to answe...</td>\n",
       "      <td>None</td>\n",
       "      <td>[Glee Cast]</td>\n",
       "    </tr>\n",
       "    <tr>\n",
       "      <th>101</th>\n",
       "      <td>A Light That Never Comes</td>\n",
       "      <td>Linkin Park, Steve Aoki</td>\n",
       "      <td>65</td>\n",
       "      <td>NaN</td>\n",
       "      <td>NaN</td>\n",
       "      <td>2013-10-04</td>\n",
       "      <td>2013-10-27</td>\n",
       "      <td>Rock,Electronic Rock,Pop,Electro House,Electro...</td>\n",
       "      <td>Steve aoki, Linkin park</td>\n",
       "      <td>A Light That Never Comes \\nNah, you don't know...</td>\n",
       "      <td>None</td>\n",
       "      <td>[Linkin Park, Steve Aoki]</td>\n",
       "    </tr>\n",
       "    <tr>\n",
       "      <th>109</th>\n",
       "      <td>A Little Too Much</td>\n",
       "      <td>Shawn Mendes</td>\n",
       "      <td>94</td>\n",
       "      <td>NaN</td>\n",
       "      <td>NaN</td>\n",
       "      <td>2015-02-20</td>\n",
       "      <td>2015-04-14</td>\n",
       "      <td>Pop</td>\n",
       "      <td>Shawn mendes</td>\n",
       "      <td>A Little Too Much \\nShe would not show that sh...</td>\n",
       "      <td>None</td>\n",
       "      <td>[Shawn Mendes]</td>\n",
       "    </tr>\n",
       "    <tr>\n",
       "      <th>...</th>\n",
       "      <td>...</td>\n",
       "      <td>...</td>\n",
       "      <td>...</td>\n",
       "      <td>...</td>\n",
       "      <td>...</td>\n",
       "      <td>...</td>\n",
       "      <td>...</td>\n",
       "      <td>...</td>\n",
       "      <td>...</td>\n",
       "      <td>...</td>\n",
       "      <td>...</td>\n",
       "      <td>...</td>\n",
       "    </tr>\n",
       "    <tr>\n",
       "      <th>6831</th>\n",
       "      <td>When The Stars Go Blue</td>\n",
       "      <td>Tim McGraw</td>\n",
       "      <td>97</td>\n",
       "      <td>37.0</td>\n",
       "      <td>20.0</td>\n",
       "      <td>2006-08-23</td>\n",
       "      <td>2014-01-01</td>\n",
       "      <td>Country</td>\n",
       "      <td>Ryan adams</td>\n",
       "      <td>When the Stars Go Blue \\nDancing when the star...</td>\n",
       "      <td>None</td>\n",
       "      <td>[Tim McGraw]</td>\n",
       "    </tr>\n",
       "    <tr>\n",
       "      <th>6947</th>\n",
       "      <td>Wild Life</td>\n",
       "      <td>Jack, Jack</td>\n",
       "      <td>87</td>\n",
       "      <td>NaN</td>\n",
       "      <td>NaN</td>\n",
       "      <td>2014-08-22</td>\n",
       "      <td>2014-10-31</td>\n",
       "      <td>Rap</td>\n",
       "      <td>Jack gilinsky, Jordan palmer, Rami jrade, Jack...</td>\n",
       "      <td>Wild Life \\nWild like\\nWild life\\nYeah, no\\nte...</td>\n",
       "      <td>None</td>\n",
       "      <td>[Jack, Jack]</td>\n",
       "    </tr>\n",
       "    <tr>\n",
       "      <th>6951</th>\n",
       "      <td>Wild West Show</td>\n",
       "      <td>Big, Rich</td>\n",
       "      <td>88</td>\n",
       "      <td>85.0</td>\n",
       "      <td>9.0</td>\n",
       "      <td>2004-04-21</td>\n",
       "      <td>2014-01-01</td>\n",
       "      <td>Country</td>\n",
       "      <td>None</td>\n",
       "      <td>Wild West Show \\nI'm feeling like Tonto\\nRidin...</td>\n",
       "      <td>None</td>\n",
       "      <td>[Big, Rich]</td>\n",
       "    </tr>\n",
       "    <tr>\n",
       "      <th>7077</th>\n",
       "      <td>Yo</td>\n",
       "      <td>Chris Brown</td>\n",
       "      <td>41</td>\n",
       "      <td>7.0</td>\n",
       "      <td>21.0</td>\n",
       "      <td>2006-05-17</td>\n",
       "      <td>2015-02-20</td>\n",
       "      <td>R&amp;;B,Rap</td>\n",
       "      <td>Rivelino raoul wouter, Melvin hough ii, Wale, ...</td>\n",
       "      <td>Yo Shit \\nThis my shit\\nIt's your shit, yeah\\n...</td>\n",
       "      <td>None</td>\n",
       "      <td>[Chris Brown]</td>\n",
       "    </tr>\n",
       "    <tr>\n",
       "      <th>7102</th>\n",
       "      <td>You Can't Stop The Beat</td>\n",
       "      <td>Glee Cast</td>\n",
       "      <td>67</td>\n",
       "      <td>NaN</td>\n",
       "      <td>NaN</td>\n",
       "      <td>2011-10-06</td>\n",
       "      <td>2012-12-06</td>\n",
       "      <td>TV,Cover,Pop</td>\n",
       "      <td>Scott wittman, Marc shaiman</td>\n",
       "      <td>You Can't Stop the Beat \\nYou can't stop an av...</td>\n",
       "      <td>None</td>\n",
       "      <td>[Glee Cast]</td>\n",
       "    </tr>\n",
       "  </tbody>\n",
       "</table>\n",
       "<p>253 rows × 12 columns</p>\n",
       "</div>"
      ],
      "text/plain": [
       "                          Name                  Artists  Weekly.rank  \\\n",
       "64                      5 Star                 Yo Gotti           84   \n",
       "81             8th Of November                Big, Rich           94   \n",
       "98       A House Is Not A Home                Glee Cast           70   \n",
       "101   A Light That Never Comes  Linkin Park, Steve Aoki           65   \n",
       "109          A Little Too Much             Shawn Mendes           94   \n",
       "...                        ...                      ...          ...   \n",
       "6831    When The Stars Go Blue               Tim McGraw           97   \n",
       "6947                 Wild Life               Jack, Jack           87   \n",
       "6951            Wild West Show                Big, Rich           88   \n",
       "7077                        Yo              Chris Brown           41   \n",
       "7102   You Can't Stop The Beat                Glee Cast           67   \n",
       "\n",
       "      Peak.position  Weeks.on.chart       Week       Date  \\\n",
       "64             79.0             2.0 2009-12-03 2012-01-10   \n",
       "81             94.0             2.0 2006-07-26 2014-01-01   \n",
       "98              NaN             NaN 2010-05-13 2010-05-18   \n",
       "101             NaN             NaN 2013-10-04 2013-10-27   \n",
       "109             NaN             NaN 2015-02-20 2015-04-14   \n",
       "...             ...             ...        ...        ...   \n",
       "6831           37.0            20.0 2006-08-23 2014-01-01   \n",
       "6947            NaN             NaN 2014-08-22 2014-10-31   \n",
       "6951           85.0             9.0 2004-04-21 2014-01-01   \n",
       "7077            7.0            21.0 2006-05-17 2015-02-20   \n",
       "7102            NaN             NaN 2011-10-06 2012-12-06   \n",
       "\n",
       "                                                  Genre  \\\n",
       "64                                            Remix,Rap   \n",
       "81                                              Country   \n",
       "98                TV,Soundtrack,Screen,Cover,Mashup,Pop   \n",
       "101   Rock,Electronic Rock,Pop,Electro House,Electro...   \n",
       "109                                                 Pop   \n",
       "...                                                 ...   \n",
       "6831                                            Country   \n",
       "6947                                                Rap   \n",
       "6951                                            Country   \n",
       "7077                                           R&;B,Rap   \n",
       "7102                                       TV,Cover,Pop   \n",
       "\n",
       "                                        Writing.Credits  \\\n",
       "64             Yo gotti, Gucci mane, Nicki minaj, Trina   \n",
       "81                                                 None   \n",
       "98                            Hal david, Burt bacharach   \n",
       "101                             Steve aoki, Linkin park   \n",
       "109                                        Shawn mendes   \n",
       "...                                                 ...   \n",
       "6831                                         Ryan adams   \n",
       "6947  Jack gilinsky, Jordan palmer, Rami jrade, Jack...   \n",
       "6951                                               None   \n",
       "7077  Rivelino raoul wouter, Melvin hough ii, Wale, ...   \n",
       "7102                        Scott wittman, Marc shaiman   \n",
       "\n",
       "                                                 Lyrics Features  \\\n",
       "64    5 Star Remix \\nChea! Yeah\\nAy, you know I'm lo...     None   \n",
       "81    8th of November \\nSaid goodbye to his momma as...     None   \n",
       "98    A House Is Not a Home \\nOne less bell to answe...     None   \n",
       "101   A Light That Never Comes \\nNah, you don't know...     None   \n",
       "109   A Little Too Much \\nShe would not show that sh...     None   \n",
       "...                                                 ...      ...   \n",
       "6831  When the Stars Go Blue \\nDancing when the star...     None   \n",
       "6947  Wild Life \\nWild like\\nWild life\\nYeah, no\\nte...     None   \n",
       "6951  Wild West Show \\nI'm feeling like Tonto\\nRidin...     None   \n",
       "7077  Yo Shit \\nThis my shit\\nIt's your shit, yeah\\n...     None   \n",
       "7102  You Can't Stop the Beat \\nYou can't stop an av...     None   \n",
       "\n",
       "                  Collaborators  \n",
       "64                   [Yo Gotti]  \n",
       "81                  [Big, Rich]  \n",
       "98                  [Glee Cast]  \n",
       "101   [Linkin Park, Steve Aoki]  \n",
       "109              [Shawn Mendes]  \n",
       "...                         ...  \n",
       "6831               [Tim McGraw]  \n",
       "6947               [Jack, Jack]  \n",
       "6951                [Big, Rich]  \n",
       "7077              [Chris Brown]  \n",
       "7102                [Glee Cast]  \n",
       "\n",
       "[253 rows x 12 columns]"
      ]
     },
     "execution_count": 64,
     "metadata": {},
     "output_type": "execute_result"
    }
   ],
   "source": [
    "firsts = df.groupby(['Name', 'Artists']).first().reset_index()\n",
    "firsts[firsts.Week < firsts.Date]"
   ]
  },
  {
   "cell_type": "code",
   "execution_count": null,
   "metadata": {},
   "outputs": [],
   "source": [
    "clean_dict = {'Ne': 'Ne-Yo', 'Usher And Alicia Keys': 'Usher, Alicia Keys'}"
   ]
  },
  {
   "cell_type": "markdown",
   "metadata": {},
   "source": [
    "# Artists and Songs"
   ]
  },
  {
   "cell_type": "markdown",
   "metadata": {},
   "source": [
    "Generate the `Collaborators` column, where each element is a list of collaborators. This includes anyone in the `Aritsts` and `Feature` columns."
   ]
  },
  {
   "cell_type": "code",
   "execution_count": 5,
   "metadata": {},
   "outputs": [],
   "source": [
    "comma = re.compile(r'\\s*,\\s*')\n",
    "\n",
    "def split_artists(row):\n",
    "    artists = comma.split(row.Artists)\n",
    "    if isinstance(row.Features, str):\n",
    "        artists += comma.split(row.Features)\n",
    "    return [a for a in artists if a != '']"
   ]
  },
  {
   "cell_type": "code",
   "execution_count": 6,
   "metadata": {},
   "outputs": [],
   "source": [
    "df['Collaborators'] = df.apply(split_artists, axis=1)"
   ]
  },
  {
   "cell_type": "code",
   "execution_count": 5,
   "metadata": {},
   "outputs": [],
   "source": [
    "# df.to_pickle('../data/data_collab.pkl')"
   ]
  },
  {
   "cell_type": "code",
   "execution_count": 7,
   "metadata": {},
   "outputs": [],
   "source": [
    "def get_uniques(_df, display_count=True):\n",
    "    songs = _df.sort_values('Weeks.on.chart', ascending=False).sort_values('Weekly.rank').groupby(['Artists', 'Name']).first().reset_index()\n",
    "    artists = set(list(chain(*_df.Collaborators.tolist())))\n",
    "\n",
    "    if display_count:\n",
    "        display(Markdown(\n",
    "            f\"* \\# unique songs: {len(songs):,d}\\n* \\# unique artists: {len(artists):,d}\"))\n",
    "        \n",
    "    return songs, artists"
   ]
  },
  {
   "cell_type": "code",
   "execution_count": 8,
   "metadata": {},
   "outputs": [
    {
     "data": {
      "text/markdown": [
       "* \\# unique songs: 7,213\n",
       "* \\# unique artists: 2,213"
      ],
      "text/plain": [
       "<IPython.core.display.Markdown object>"
      ]
     },
     "metadata": {},
     "output_type": "display_data"
    }
   ],
   "source": [
    "songs, artists = get_uniques(df)"
   ]
  },
  {
   "cell_type": "markdown",
   "metadata": {},
   "source": [
    "## # of Weeks on Chart Rank"
   ]
  },
  {
   "cell_type": "code",
   "execution_count": 9,
   "metadata": {},
   "outputs": [],
   "source": [
    "df['Year'] = df.Week.dt.year\n",
    "df['Month'] = df.Week.dt.month"
   ]
  },
  {
   "cell_type": "code",
   "execution_count": 11,
   "metadata": {},
   "outputs": [
    {
     "data": {
      "text/html": [
       "<div>\n",
       "<style scoped>\n",
       "    .dataframe tbody tr th:only-of-type {\n",
       "        vertical-align: middle;\n",
       "    }\n",
       "\n",
       "    .dataframe tbody tr th {\n",
       "        vertical-align: top;\n",
       "    }\n",
       "\n",
       "    .dataframe thead th {\n",
       "        text-align: right;\n",
       "    }\n",
       "</style>\n",
       "<table border=\"1\" class=\"dataframe\">\n",
       "  <thead>\n",
       "    <tr style=\"text-align: right;\">\n",
       "      <th></th>\n",
       "      <th>Artists</th>\n",
       "      <th>Name</th>\n",
       "      <th>Weeks.on.chart</th>\n",
       "    </tr>\n",
       "  </thead>\n",
       "  <tbody>\n",
       "    <tr>\n",
       "      <th>0</th>\n",
       "      <td>Imagine Dragons</td>\n",
       "      <td>Radioactive</td>\n",
       "      <td>87.0</td>\n",
       "    </tr>\n",
       "    <tr>\n",
       "      <th>1</th>\n",
       "      <td>AWOLNATION</td>\n",
       "      <td>Sail</td>\n",
       "      <td>79.0</td>\n",
       "    </tr>\n",
       "    <tr>\n",
       "      <th>2</th>\n",
       "      <td>Jason Mraz</td>\n",
       "      <td>I'm Yours</td>\n",
       "      <td>76.0</td>\n",
       "    </tr>\n",
       "    <tr>\n",
       "      <th>3</th>\n",
       "      <td>OneRepublic</td>\n",
       "      <td>Counting Stars</td>\n",
       "      <td>68.0</td>\n",
       "    </tr>\n",
       "    <tr>\n",
       "      <th>4</th>\n",
       "      <td>Adele</td>\n",
       "      <td>Rolling In The Deep</td>\n",
       "      <td>65.0</td>\n",
       "    </tr>\n",
       "    <tr>\n",
       "      <th>5</th>\n",
       "      <td>Carrie Underwood</td>\n",
       "      <td>Before He Cheats</td>\n",
       "      <td>64.0</td>\n",
       "    </tr>\n",
       "    <tr>\n",
       "      <th>6</th>\n",
       "      <td>The Lumineers</td>\n",
       "      <td>Ho Hey</td>\n",
       "      <td>62.0</td>\n",
       "    </tr>\n",
       "    <tr>\n",
       "      <th>7</th>\n",
       "      <td>Lifehouse</td>\n",
       "      <td>You And Me</td>\n",
       "      <td>62.0</td>\n",
       "    </tr>\n",
       "    <tr>\n",
       "      <th>8</th>\n",
       "      <td>Imagine Dragons</td>\n",
       "      <td>Demons</td>\n",
       "      <td>61.0</td>\n",
       "    </tr>\n",
       "    <tr>\n",
       "      <th>9</th>\n",
       "      <td>Lady Antebellum</td>\n",
       "      <td>Need You Now</td>\n",
       "      <td>60.0</td>\n",
       "    </tr>\n",
       "  </tbody>\n",
       "</table>\n",
       "</div>"
      ],
      "text/plain": [
       "            Artists                 Name  Weeks.on.chart\n",
       "0   Imagine Dragons          Radioactive            87.0\n",
       "1        AWOLNATION                 Sail            79.0\n",
       "2        Jason Mraz            I'm Yours            76.0\n",
       "3       OneRepublic       Counting Stars            68.0\n",
       "4             Adele  Rolling In The Deep            65.0\n",
       "5  Carrie Underwood     Before He Cheats            64.0\n",
       "6     The Lumineers               Ho Hey            62.0\n",
       "7         Lifehouse           You And Me            62.0\n",
       "8   Imagine Dragons               Demons            61.0\n",
       "9   Lady Antebellum         Need You Now            60.0"
      ]
     },
     "execution_count": 11,
     "metadata": {},
     "output_type": "execute_result"
    }
   ],
   "source": [
    "df[['Artists', 'Name', 'Weeks.on.chart']].groupby(['Artists', 'Name']).max().reset_index().sort_values(by='Weeks.on.chart', ascending=False).head(10).reset_index(drop=True)"
   ]
  },
  {
   "cell_type": "markdown",
   "metadata": {},
   "source": [
    "Logest charting songs per year"
   ]
  },
  {
   "cell_type": "code",
   "execution_count": 15,
   "metadata": {},
   "outputs": [
    {
     "data": {
      "text/html": [
       "<div>\n",
       "<style scoped>\n",
       "    .dataframe tbody tr th:only-of-type {\n",
       "        vertical-align: middle;\n",
       "    }\n",
       "\n",
       "    .dataframe tbody tr th {\n",
       "        vertical-align: top;\n",
       "    }\n",
       "\n",
       "    .dataframe thead th {\n",
       "        text-align: right;\n",
       "    }\n",
       "</style>\n",
       "<table border=\"1\" class=\"dataframe\">\n",
       "  <thead>\n",
       "    <tr style=\"text-align: right;\">\n",
       "      <th></th>\n",
       "      <th>Year</th>\n",
       "      <th>Artists</th>\n",
       "      <th>Name</th>\n",
       "      <th>Weeks.on.chart</th>\n",
       "    </tr>\n",
       "  </thead>\n",
       "  <tbody>\n",
       "    <tr>\n",
       "      <th>0</th>\n",
       "      <td>1999</td>\n",
       "      <td>Sarah McLachlan</td>\n",
       "      <td>I Will Remember You</td>\n",
       "      <td>40.0</td>\n",
       "    </tr>\n",
       "    <tr>\n",
       "      <th>1</th>\n",
       "      <td>2000</td>\n",
       "      <td>Santana</td>\n",
       "      <td>Smooth</td>\n",
       "      <td>58.0</td>\n",
       "    </tr>\n",
       "    <tr>\n",
       "      <th>2</th>\n",
       "      <td>2001</td>\n",
       "      <td>Faith Hill</td>\n",
       "      <td>The Way You Love Me</td>\n",
       "      <td>56.0</td>\n",
       "    </tr>\n",
       "    <tr>\n",
       "      <th>3</th>\n",
       "      <td>2002</td>\n",
       "      <td>Lifehouse</td>\n",
       "      <td>Hanging By A Moment</td>\n",
       "      <td>53.0</td>\n",
       "    </tr>\n",
       "    <tr>\n",
       "      <th>4</th>\n",
       "      <td>2003</td>\n",
       "      <td>3 Doors Down</td>\n",
       "      <td>When I'm Gone</td>\n",
       "      <td>45.0</td>\n",
       "    </tr>\n",
       "    <tr>\n",
       "      <th>5</th>\n",
       "      <td>2004</td>\n",
       "      <td>matchbox twenty</td>\n",
       "      <td>Unwell</td>\n",
       "      <td>54.0</td>\n",
       "    </tr>\n",
       "    <tr>\n",
       "      <th>6</th>\n",
       "      <td>2005</td>\n",
       "      <td>Kelly Clarkson</td>\n",
       "      <td>Since U Been Gone</td>\n",
       "      <td>46.0</td>\n",
       "    </tr>\n",
       "    <tr>\n",
       "      <th>7</th>\n",
       "      <td>2006</td>\n",
       "      <td>Lifehouse</td>\n",
       "      <td>You And Me</td>\n",
       "      <td>62.0</td>\n",
       "    </tr>\n",
       "    <tr>\n",
       "      <th>8</th>\n",
       "      <td>2007</td>\n",
       "      <td>Carrie Underwood</td>\n",
       "      <td>Before He Cheats</td>\n",
       "      <td>64.0</td>\n",
       "    </tr>\n",
       "    <tr>\n",
       "      <th>9</th>\n",
       "      <td>2008</td>\n",
       "      <td>Finger Eleven</td>\n",
       "      <td>Paralyzer</td>\n",
       "      <td>50.0</td>\n",
       "    </tr>\n",
       "    <tr>\n",
       "      <th>10</th>\n",
       "      <td>2009</td>\n",
       "      <td>Jason Mraz</td>\n",
       "      <td>I'm Yours</td>\n",
       "      <td>76.0</td>\n",
       "    </tr>\n",
       "    <tr>\n",
       "      <th>11</th>\n",
       "      <td>2010</td>\n",
       "      <td>Lady Antebellum</td>\n",
       "      <td>Need You Now</td>\n",
       "      <td>60.0</td>\n",
       "    </tr>\n",
       "    <tr>\n",
       "      <th>12</th>\n",
       "      <td>2011</td>\n",
       "      <td>The Band Perry</td>\n",
       "      <td>If I Die Young</td>\n",
       "      <td>53.0</td>\n",
       "    </tr>\n",
       "    <tr>\n",
       "      <th>13</th>\n",
       "      <td>2012</td>\n",
       "      <td>Adele</td>\n",
       "      <td>Rolling In The Deep</td>\n",
       "      <td>65.0</td>\n",
       "    </tr>\n",
       "    <tr>\n",
       "      <th>14</th>\n",
       "      <td>2013</td>\n",
       "      <td>Imagine Dragons</td>\n",
       "      <td>Radioactive</td>\n",
       "      <td>68.0</td>\n",
       "    </tr>\n",
       "    <tr>\n",
       "      <th>15</th>\n",
       "      <td>2014</td>\n",
       "      <td>Imagine Dragons</td>\n",
       "      <td>Radioactive</td>\n",
       "      <td>87.0</td>\n",
       "    </tr>\n",
       "    <tr>\n",
       "      <th>16</th>\n",
       "      <td>2015</td>\n",
       "      <td>Ed Sheeran</td>\n",
       "      <td>Thinking Out Loud</td>\n",
       "      <td>58.0</td>\n",
       "    </tr>\n",
       "    <tr>\n",
       "      <th>17</th>\n",
       "      <td>2016</td>\n",
       "      <td>Fetty Wap</td>\n",
       "      <td>Trap Queen</td>\n",
       "      <td>52.0</td>\n",
       "    </tr>\n",
       "    <tr>\n",
       "      <th>18</th>\n",
       "      <td>2017</td>\n",
       "      <td>Sia</td>\n",
       "      <td>Cheap Thrills</td>\n",
       "      <td>52.0</td>\n",
       "    </tr>\n",
       "    <tr>\n",
       "      <th>19</th>\n",
       "      <td>2018</td>\n",
       "      <td>Ed Sheeran</td>\n",
       "      <td>Shape Of You</td>\n",
       "      <td>59.0</td>\n",
       "    </tr>\n",
       "    <tr>\n",
       "      <th>20</th>\n",
       "      <td>2019</td>\n",
       "      <td>Post Malone</td>\n",
       "      <td>Better Now</td>\n",
       "      <td>52.0</td>\n",
       "    </tr>\n",
       "  </tbody>\n",
       "</table>\n",
       "</div>"
      ],
      "text/plain": [
       "    Year           Artists                 Name  Weeks.on.chart\n",
       "0   1999   Sarah McLachlan  I Will Remember You            40.0\n",
       "1   2000           Santana               Smooth            58.0\n",
       "2   2001        Faith Hill  The Way You Love Me            56.0\n",
       "3   2002         Lifehouse  Hanging By A Moment            53.0\n",
       "4   2003      3 Doors Down        When I'm Gone            45.0\n",
       "5   2004   matchbox twenty               Unwell            54.0\n",
       "6   2005    Kelly Clarkson    Since U Been Gone            46.0\n",
       "7   2006         Lifehouse           You And Me            62.0\n",
       "8   2007  Carrie Underwood     Before He Cheats            64.0\n",
       "9   2008     Finger Eleven            Paralyzer            50.0\n",
       "10  2009        Jason Mraz            I'm Yours            76.0\n",
       "11  2010   Lady Antebellum         Need You Now            60.0\n",
       "12  2011    The Band Perry       If I Die Young            53.0\n",
       "13  2012             Adele  Rolling In The Deep            65.0\n",
       "14  2013   Imagine Dragons          Radioactive            68.0\n",
       "15  2014   Imagine Dragons          Radioactive            87.0\n",
       "16  2015        Ed Sheeran    Thinking Out Loud            58.0\n",
       "17  2016         Fetty Wap           Trap Queen            52.0\n",
       "18  2017               Sia        Cheap Thrills            52.0\n",
       "19  2018        Ed Sheeran         Shape Of You            59.0\n",
       "20  2019       Post Malone           Better Now            52.0"
      ]
     },
     "execution_count": 15,
     "metadata": {},
     "output_type": "execute_result"
    }
   ],
   "source": [
    "df[\n",
    "    ['Year', 'Artists', 'Name', 'Weeks.on.chart']\n",
    "].groupby(\n",
    "    ['Year', 'Artists', 'Name']\n",
    ").max(\n",
    ").reset_index(\n",
    ").sort_values(\n",
    "    by='Weeks.on.chart', ascending=False\n",
    ").groupby(\n",
    "    ['Year']\n",
    ").first(\n",
    ").reset_index()"
   ]
  },
  {
   "cell_type": "markdown",
   "metadata": {},
   "source": [
    "# Popular song *titles*!"
   ]
  },
  {
   "cell_type": "markdown",
   "metadata": {},
   "source": [
    "20년동안의 인기곡 중 중복의 타이틀을 가진 곡들도 많았다."
   ]
  },
  {
   "cell_type": "code",
   "execution_count": 47,
   "metadata": {},
   "outputs": [],
   "source": [
    "unique_song_titles = songs.Name.value_counts().to_frame().reset_index().rename(columns={'index': 'Name' ,'Name': 'Count'})"
   ]
  },
  {
   "cell_type": "code",
   "execution_count": 48,
   "metadata": {},
   "outputs": [
    {
     "data": {
      "text/html": [
       "<div>\n",
       "<style scoped>\n",
       "    .dataframe tbody tr th:only-of-type {\n",
       "        vertical-align: middle;\n",
       "    }\n",
       "\n",
       "    .dataframe tbody tr th {\n",
       "        vertical-align: top;\n",
       "    }\n",
       "\n",
       "    .dataframe thead th {\n",
       "        text-align: right;\n",
       "    }\n",
       "</style>\n",
       "<table border=\"1\" class=\"dataframe\">\n",
       "  <thead>\n",
       "    <tr style=\"text-align: right;\">\n",
       "      <th></th>\n",
       "      <th>Name</th>\n",
       "      <th>Count</th>\n",
       "    </tr>\n",
       "  </thead>\n",
       "  <tbody>\n",
       "    <tr>\n",
       "      <th>0</th>\n",
       "      <td>Home</td>\n",
       "      <td>10</td>\n",
       "    </tr>\n",
       "    <tr>\n",
       "      <th>1</th>\n",
       "      <td>Hallelujah</td>\n",
       "      <td>8</td>\n",
       "    </tr>\n",
       "    <tr>\n",
       "      <th>2</th>\n",
       "      <td>Breathe</td>\n",
       "      <td>7</td>\n",
       "    </tr>\n",
       "    <tr>\n",
       "      <th>3</th>\n",
       "      <td>Beautiful</td>\n",
       "      <td>7</td>\n",
       "    </tr>\n",
       "    <tr>\n",
       "      <th>4</th>\n",
       "      <td>Let It Go</td>\n",
       "      <td>6</td>\n",
       "    </tr>\n",
       "    <tr>\n",
       "      <th>5</th>\n",
       "      <td>Stay</td>\n",
       "      <td>6</td>\n",
       "    </tr>\n",
       "    <tr>\n",
       "      <th>6</th>\n",
       "      <td>X</td>\n",
       "      <td>6</td>\n",
       "    </tr>\n",
       "    <tr>\n",
       "      <th>7</th>\n",
       "      <td>Smile</td>\n",
       "      <td>6</td>\n",
       "    </tr>\n",
       "    <tr>\n",
       "      <th>8</th>\n",
       "      <td>Without You</td>\n",
       "      <td>5</td>\n",
       "    </tr>\n",
       "    <tr>\n",
       "      <th>9</th>\n",
       "      <td>Let Me Love You</td>\n",
       "      <td>5</td>\n",
       "    </tr>\n",
       "  </tbody>\n",
       "</table>\n",
       "</div>"
      ],
      "text/plain": [
       "              Name  Count\n",
       "0             Home     10\n",
       "1       Hallelujah      8\n",
       "2          Breathe      7\n",
       "3        Beautiful      7\n",
       "4        Let It Go      6\n",
       "5             Stay      6\n",
       "6                X      6\n",
       "7            Smile      6\n",
       "8      Without You      5\n",
       "9  Let Me Love You      5"
      ]
     },
     "execution_count": 48,
     "metadata": {},
     "output_type": "execute_result"
    }
   ],
   "source": [
    "unique_song_titles.head(10)"
   ]
  },
  {
   "cell_type": "code",
   "execution_count": 209,
   "metadata": {},
   "outputs": [
    {
     "data": {
      "text/html": [
       "<div>\n",
       "<style scoped>\n",
       "    .dataframe tbody tr th:only-of-type {\n",
       "        vertical-align: middle;\n",
       "    }\n",
       "\n",
       "    .dataframe tbody tr th {\n",
       "        vertical-align: top;\n",
       "    }\n",
       "\n",
       "    .dataframe thead th {\n",
       "        text-align: right;\n",
       "    }\n",
       "</style>\n",
       "<table border=\"1\" class=\"dataframe\">\n",
       "  <thead>\n",
       "    <tr style=\"text-align: right;\">\n",
       "      <th></th>\n",
       "      <th>Artists</th>\n",
       "      <th>Name</th>\n",
       "      <th>Date</th>\n",
       "      <th>Genre</th>\n",
       "      <th>Lyrics</th>\n",
       "    </tr>\n",
       "  </thead>\n",
       "  <tbody>\n",
       "    <tr>\n",
       "      <th>11504</th>\n",
       "      <td>DJ Snake</td>\n",
       "      <td>Let Me Love You</td>\n",
       "      <td>2016-08-04</td>\n",
       "      <td>Electro-Pop,Tropical House,Canada,Electronic,Pop</td>\n",
       "      <td>Let Me Love You \\nI used to believe\\nWe were b...</td>\n",
       "    </tr>\n",
       "    <tr>\n",
       "      <th>16021</th>\n",
       "      <td>Ariana Grande</td>\n",
       "      <td>Let Me Love You</td>\n",
       "      <td>2016-04-18</td>\n",
       "      <td>Trap,R&amp;;B,Rap,Pop</td>\n",
       "      <td>Let Me Love You \\nI just broke up with my ex\\n...</td>\n",
       "    </tr>\n",
       "    <tr>\n",
       "      <th>31524</th>\n",
       "      <td>Ne</td>\n",
       "      <td>Let Me Love You</td>\n",
       "      <td>2016-04-18</td>\n",
       "      <td>Trap,R&amp;;B,Rap,Pop</td>\n",
       "      <td>Let Me Love You \\nI just broke up with my ex\\n...</td>\n",
       "    </tr>\n",
       "    <tr>\n",
       "      <th>31665</th>\n",
       "      <td>Glee Cast</td>\n",
       "      <td>Let Me Love You</td>\n",
       "      <td>2012-02-14</td>\n",
       "      <td>Pop</td>\n",
       "      <td>Let Me Love You \\nArtie with New Directions Bo...</td>\n",
       "    </tr>\n",
       "    <tr>\n",
       "      <th>68689</th>\n",
       "      <td>Mario</td>\n",
       "      <td>Let Me Love You</td>\n",
       "      <td>2004-11-16</td>\n",
       "      <td>Pop,R&amp;;B</td>\n",
       "      <td>Let Me Love You \\nMmmm\\nMmmmm\\nYeah\\nMmmmm\\nYe...</td>\n",
       "    </tr>\n",
       "  </tbody>\n",
       "</table>\n",
       "</div>"
      ],
      "text/plain": [
       "             Artists             Name       Date  \\\n",
       "11504       DJ Snake  Let Me Love You 2016-08-04   \n",
       "16021  Ariana Grande  Let Me Love You 2016-04-18   \n",
       "31524             Ne  Let Me Love You 2016-04-18   \n",
       "31665      Glee Cast  Let Me Love You 2012-02-14   \n",
       "68689          Mario  Let Me Love You 2004-11-16   \n",
       "\n",
       "                                                  Genre  \\\n",
       "11504  Electro-Pop,Tropical House,Canada,Electronic,Pop   \n",
       "16021                                 Trap,R&;B,Rap,Pop   \n",
       "31524                                 Trap,R&;B,Rap,Pop   \n",
       "31665                                               Pop   \n",
       "68689                                          Pop,R&;B   \n",
       "\n",
       "                                                  Lyrics  \n",
       "11504  Let Me Love You \\nI used to believe\\nWe were b...  \n",
       "16021  Let Me Love You \\nI just broke up with my ex\\n...  \n",
       "31524  Let Me Love You \\nI just broke up with my ex\\n...  \n",
       "31665  Let Me Love You \\nArtie with New Directions Bo...  \n",
       "68689  Let Me Love You \\nMmmm\\nMmmmm\\nYeah\\nMmmmm\\nYe...  "
      ]
     },
     "execution_count": 209,
     "metadata": {},
     "output_type": "execute_result"
    }
   ],
   "source": [
    "title = 'Let Me Love You'\n",
    "df.loc[df.Name == title, ['Artists', 'Name', 'Date', 'Genre', 'Lyrics']].drop_duplicates()"
   ]
  },
  {
   "cell_type": "markdown",
   "metadata": {},
   "source": [
    "That's a lot of popular songs named 'Home'!"
   ]
  },
  {
   "cell_type": "code",
   "execution_count": 79,
   "metadata": {},
   "outputs": [
    {
     "data": {
      "text/html": [
       "<div>\n",
       "<style scoped>\n",
       "    .dataframe tbody tr th:only-of-type {\n",
       "        vertical-align: middle;\n",
       "    }\n",
       "\n",
       "    .dataframe tbody tr th {\n",
       "        vertical-align: top;\n",
       "    }\n",
       "\n",
       "    .dataframe thead th {\n",
       "        text-align: right;\n",
       "    }\n",
       "</style>\n",
       "<table border=\"1\" class=\"dataframe\">\n",
       "  <thead>\n",
       "    <tr style=\"text-align: right;\">\n",
       "      <th></th>\n",
       "      <th>Artists</th>\n",
       "      <th>Name</th>\n",
       "      <th>Date</th>\n",
       "      <th>Genre</th>\n",
       "      <th>Lyrics</th>\n",
       "    </tr>\n",
       "  </thead>\n",
       "  <tbody>\n",
       "    <tr>\n",
       "      <th>12613</th>\n",
       "      <td>Pentatonix</td>\n",
       "      <td>Hallelujah</td>\n",
       "      <td>2016-10-21</td>\n",
       "      <td>A Cappella,Christmas,Pop</td>\n",
       "      <td>Hallelujah \\nI've heard there was a secret cho...</td>\n",
       "    </tr>\n",
       "    <tr>\n",
       "      <th>13243</th>\n",
       "      <td>Leonard Cohen</td>\n",
       "      <td>Hallelujah</td>\n",
       "      <td>NaT</td>\n",
       "      <td>Eighties,Adult Alternative,Indie Pop,Alternati...</td>\n",
       "      <td>Hallelujah \\nNow I've heard there was a secret...</td>\n",
       "    </tr>\n",
       "    <tr>\n",
       "      <th>17658</th>\n",
       "      <td>Lindsey Stirling</td>\n",
       "      <td>Hallelujah</td>\n",
       "      <td>2015-12-07</td>\n",
       "      <td>Pop</td>\n",
       "      <td>Hallelujah \\n</td>\n",
       "    </tr>\n",
       "    <tr>\n",
       "      <th>17923</th>\n",
       "      <td>Jordan Smith</td>\n",
       "      <td>Hallelujah</td>\n",
       "      <td>NaT</td>\n",
       "      <td>R&amp;;B</td>\n",
       "      <td>Hallelujah \\nWell I've heard there was a secre...</td>\n",
       "    </tr>\n",
       "    <tr>\n",
       "      <th>20852</th>\n",
       "      <td>Panic! At The Disco</td>\n",
       "      <td>Hallelujah</td>\n",
       "      <td>2015-04-20</td>\n",
       "      <td>Alternative Pop,Alternative,Alternative Rock,P...</td>\n",
       "      <td>Hallelujah \\nOhh!\\nA moment you'll never remem...</td>\n",
       "    </tr>\n",
       "    <tr>\n",
       "      <th>46061</th>\n",
       "      <td>k.d. lang</td>\n",
       "      <td>Hallelujah</td>\n",
       "      <td>2004-07-27</td>\n",
       "      <td>Pop</td>\n",
       "      <td>Hallelujah \\nI heard there was a secret chord\\...</td>\n",
       "    </tr>\n",
       "    <tr>\n",
       "      <th>46276</th>\n",
       "      <td>Justin Timberlake, Matt Morris</td>\n",
       "      <td>Hallelujah</td>\n",
       "      <td>NaT</td>\n",
       "      <td>Pop</td>\n",
       "      <td>Hallelujah \\nWell I heard there was a secret c...</td>\n",
       "    </tr>\n",
       "    <tr>\n",
       "      <th>54709</th>\n",
       "      <td>Kate Voegele</td>\n",
       "      <td>Hallelujah</td>\n",
       "      <td>NaT</td>\n",
       "      <td>Pop</td>\n",
       "      <td>Hallelujah \\nWell I've heard there was a sacre...</td>\n",
       "    </tr>\n",
       "  </tbody>\n",
       "</table>\n",
       "</div>"
      ],
      "text/plain": [
       "                              Artists        Name       Date  \\\n",
       "12613                      Pentatonix  Hallelujah 2016-10-21   \n",
       "13243                   Leonard Cohen  Hallelujah        NaT   \n",
       "17658                Lindsey Stirling  Hallelujah 2015-12-07   \n",
       "17923                    Jordan Smith  Hallelujah        NaT   \n",
       "20852             Panic! At The Disco  Hallelujah 2015-04-20   \n",
       "46061                       k.d. lang  Hallelujah 2004-07-27   \n",
       "46276  Justin Timberlake, Matt Morris  Hallelujah        NaT   \n",
       "54709                    Kate Voegele  Hallelujah        NaT   \n",
       "\n",
       "                                                   Genre  \\\n",
       "12613                           A Cappella,Christmas,Pop   \n",
       "13243  Eighties,Adult Alternative,Indie Pop,Alternati...   \n",
       "17658                                                Pop   \n",
       "17923                                               R&;B   \n",
       "20852  Alternative Pop,Alternative,Alternative Rock,P...   \n",
       "46061                                                Pop   \n",
       "46276                                                Pop   \n",
       "54709                                                Pop   \n",
       "\n",
       "                                                  Lyrics  \n",
       "12613  Hallelujah \\nI've heard there was a secret cho...  \n",
       "13243  Hallelujah \\nNow I've heard there was a secret...  \n",
       "17658                                      Hallelujah \\n  \n",
       "17923  Hallelujah \\nWell I've heard there was a secre...  \n",
       "20852  Hallelujah \\nOhh!\\nA moment you'll never remem...  \n",
       "46061  Hallelujah \\nI heard there was a secret chord\\...  \n",
       "46276  Hallelujah \\nWell I heard there was a secret c...  \n",
       "54709  Hallelujah \\nWell I've heard there was a sacre...  "
      ]
     },
     "execution_count": 79,
     "metadata": {},
     "output_type": "execute_result"
    }
   ],
   "source": [
    "title = 'Hallelujah'\n",
    "df.loc[df.Name == title, ['Artists', 'Name', 'Date', 'Genre', 'Lyrics']].drop_duplicates()"
   ]
  },
  {
   "cell_type": "markdown",
   "metadata": {},
   "source": [
    "All of them are Leonard Cohen's songs, except for Panic! At The Disco's."
   ]
  },
  {
   "cell_type": "code",
   "execution_count": 14,
   "metadata": {},
   "outputs": [],
   "source": [
    "songs['NumCollaborators'] = songs.Collaborators.apply(len)"
   ]
  },
  {
   "cell_type": "code",
   "execution_count": 19,
   "metadata": {},
   "outputs": [
    {
     "data": {
      "text/plain": [
       "<seaborn.axisgrid.FacetGrid at 0x7fcf0cc02d60>"
      ]
     },
     "execution_count": 19,
     "metadata": {},
     "output_type": "execute_result"
    },
    {
     "data": {
      "image/png": "[encoded data removed]",
      "text/plain": [
       "<Figure size 432x288 with 1 Axes>"
      ]
     },
     "metadata": {},
     "output_type": "display_data"
    }
   ],
   "source": [
    "g = sns.displot(songs, x='NumCollaborators', bins=np.arange(1, 7, dtype=int), height=4, aspect=1.5)"
   ]
  },
  {
   "cell_type": "markdown",
   "metadata": {},
   "source": [
    "# Collaboration Graph"
   ]
  },
  {
   "cell_type": "markdown",
   "metadata": {},
   "source": [
    "Register nodes to our graph."
   ]
  },
  {
   "cell_type": "code",
   "execution_count": 10,
   "metadata": {},
   "outputs": [],
   "source": [
    "class GraphWrapper(object):\n",
    "    def __init__(self, _df):\n",
    "        songs = _df.sort_values('Weeks.on.chart', ascending=False).sort_values('Weekly.rank').groupby(['Artists', 'Name']).first().reset_index()\n",
    "        artists = set(list(chain(*_df.Collaborators.tolist())))\n",
    "        songs['NumCollaborators'] = songs.Collaborators.apply(len)\n",
    "        \n",
    "        # artist maps\n",
    "        artist2ind = {a: i for i, a in enumerate(sorted(artists))}\n",
    "\n",
    "        G = nx.Graph()\n",
    "        counter = 0\n",
    "        for collaborators in songs.Collaborators:\n",
    "            for artist in collaborators:\n",
    "                ind = artist2ind[artist]\n",
    "                if ind not in G.nodes:\n",
    "                    G.add_node(ind, artist=artist, count=1)\n",
    "                else:\n",
    "                    #if 'artist' not in G.nodes[ind]:\n",
    "                    #    G.nodes[ind]['artist'] = y\n",
    "                    G.nodes[ind]['count'] += 1\n",
    "            \n",
    "            # add edges between each pair(2) of artists in the collaborators list of this song\n",
    "            artist_indices = [artist2ind[artist] for artist in collaborators]\n",
    "            G.add_edges_from(combinations(artist_indices, 2))\n",
    "            # TODO: add weights\n",
    "\n",
    "        self.songs = songs\n",
    "        self.artists = artists\n",
    "        self.artist2ind = artist2ind\n",
    "        self.ind2artist = sorted(artists)\n",
    "        self.graph = G\n",
    "        self._connected_components = None\n",
    "        self._cliques = None\n",
    "            \n",
    "    @property\n",
    "    def connected_components(self):\n",
    "        if self._connected_components is None:\n",
    "            self._connected_components = list(nx.connected_components(self.graph))\n",
    "        return self._connected_components\n",
    "    \n",
    "    @property\n",
    "    def ccs(self):\n",
    "        return self.connected_components\n",
    "    \n",
    "    @property\n",
    "    def cliques(self):\n",
    "        if self._cliques is None:\n",
    "            self._cliques = list(nx.enumerate_all_cliques(self.graph))\n",
    "        return self._cliques"
   ]
  },
  {
   "cell_type": "code",
   "execution_count": 11,
   "metadata": {},
   "outputs": [],
   "source": [
    "def generate_graph_properties_dict(G):\n",
    "    clique_lens = np.asarray(list(map(len, G.cliques)))\n",
    "    top3_clique_id = np.argsort(clique_lens)[::-1][:3]\n",
    "    top3_cliques = [str([G.ind2artist[i] for i in G.cliques[c]]) for c in top3_clique_id]\n",
    "    return dict(\n",
    "        num_songs=G.songs.shape[0],\n",
    "        num_artists=G.graph.number_of_nodes(), \n",
    "        num_edges=G.graph.number_of_edges(), \n",
    "        num_connected_components=len(G.ccs), \n",
    "        size_largest_component=max(map(len, G.ccs)), \n",
    "        num_cliques_le3=np.sum(clique_lens > 3).astype(int),\n",
    "        size_largest_clique=max(clique_lens),\n",
    "        largest_cliques=top3_cliques\n",
    "    )"
   ]
  },
  {
   "cell_type": "code",
   "execution_count": 12,
   "metadata": {},
   "outputs": [],
   "source": [
    "def display_graph_properties(G):\n",
    "    clique_lens = np.asarray(list(map(len, G.cliques)))\n",
    "    top3_clique_id = np.argsort(clique_lens)[::-1][:3]\n",
    "    top3_cliques = [str([G.ind2artist[i] for i in G.cliques[c]]) for c in top3_clique_id]\n",
    "    top3_cliques_str = '\\n'.join(top3_cliques)\n",
    "    number_of = '\\#'\n",
    "    linebk = '\\n'\n",
    "    display(Markdown(\"\"\"* \\# unique songs: {:,d} (= # nodes)\n",
    "* \\# unique artists: {:,d} (= # nodes)\n",
    "* \\# relationships: {:,d} (= # edges)\n",
    "* \\# connected components: {:,d}\n",
    "  * Size of largest component: {:,d} artists\n",
    "* \\# cliques larger than 3: {:,d} cliques\n",
    "  * Largest clique size: {} artists\n",
    "  * Largest cliques: \n",
    "<code>{}</code>`\"\"\".format(\n",
    "        G.songs.shape[0],\n",
    "        G.graph.number_of_nodes(), \n",
    "        G.graph.number_of_edges(), \n",
    "        len(G.ccs), \n",
    "        max(map(len, G.ccs)), \n",
    "        np.sum(clique_lens > 3).astype(int),\n",
    "        max(clique_lens),\n",
    "        top3_cliques_str\n",
    "    )))\n",
    "\n",
    "    _ = sns.displot(G.songs, x='NumCollaborators', bins=np.arange(1, 7, dtype=int), height=3, aspect=1.5)"
   ]
  },
  {
   "cell_type": "code",
   "execution_count": 73,
   "metadata": {
    "jupyter": {
     "source_hidden": true
    },
    "tags": []
   },
   "outputs": [],
   "source": [
    "def make_graph(_df, display_info=False, return_dicts=True):\n",
    "    songs, artists = get_uniques(_df, display_count=display_info)\n",
    "    songs['NumCollaborators'] = songs.Collaborators.apply(len)\n",
    "    \n",
    "    # artist maps\n",
    "    artist2ind = {a: i for i, a in enumerate(sorted(artists))}\n",
    "    ind2artist = sorted(artists)\n",
    "\n",
    "    G = nx.Graph()\n",
    "    counter = 0\n",
    "    for l in songs.Collaborators:\n",
    "        for y in l:\n",
    "            ind = artist2ind[y]\n",
    "            if ind not in G.nodes:\n",
    "                G.add_node(ind, artist=y, count=1)\n",
    "            else:\n",
    "                #if 'artist' not in G.nodes[ind]:\n",
    "                #    G.nodes[ind]['artist'] = y\n",
    "                G.nodes[ind]['count'] += 1\n",
    "\n",
    "        G.add_edges_from(combinations([artist2ind[y] for y in l], 2))\n",
    "    if display_info:\n",
    "        ccs = list(nx.connected_components(G))\n",
    "        display(Markdown(f\"\"\"* no. unique artists: {G.number_of_nodes():,d} (= # nodes)\n",
    "            * no. relationships: {G.number_of_edges():,d} (= # edges)\n",
    "            * no. connected components: {len(ccs):,d}\n",
    "              * Size of largest component: {max(ccs):,d}\n",
    "            * no. cliques larger than 3: \"\"\"))\n",
    "        _ = sns.displot(songs, x='NumCollaborators', bins=np.arange(1, 7, dtype=int), height=3, aspect=1.5)\n",
    "    return G, artist2ind, ind2artist"
   ]
  },
  {
   "cell_type": "markdown",
   "metadata": {},
   "source": [
    "## Yearly"
   ]
  },
  {
   "cell_type": "code",
   "execution_count": 13,
   "metadata": {},
   "outputs": [],
   "source": [
    "from collections import defaultdict"
   ]
  },
  {
   "cell_type": "code",
   "execution_count": 34,
   "metadata": {},
   "outputs": [],
   "source": [
    "df['YearHalf'] = df.Month.apply(lambda x: 1 if x < 7 else 2)"
   ]
  },
  {
   "cell_type": "code",
   "execution_count": 35,
   "metadata": {},
   "outputs": [],
   "source": [
    "yearly_network = dict()\n",
    "yearly_rows = list()\n",
    "years = []\n",
    "for year, _df in df.groupby(['Year', 'YearHalf']):\n",
    "    _G = GraphWrapper(_df)\n",
    "    properties = generate_graph_properties_dict(_G)\n",
    "    yearly_network[year] = _G\n",
    "    yearly_rows.append(properties)\n",
    "    years.append(year)"
   ]
  },
  {
   "cell_type": "code",
   "execution_count": 36,
   "metadata": {},
   "outputs": [],
   "source": [
    "yearly_df = pd.DataFrame(yearly_rows, index=years)"
   ]
  },
  {
   "cell_type": "code",
   "execution_count": 23,
   "metadata": {},
   "outputs": [
    {
     "data": {
      "text/plain": [
       "(Timestamp('1999-07-12 00:00:00'), Timestamp('2019-07-06 00:00:00'))"
      ]
     },
     "execution_count": 23,
     "metadata": {},
     "output_type": "execute_result"
    }
   ],
   "source": [
    "df.Week.min(), df.Week.max()"
   ]
  },
  {
   "cell_type": "code",
   "execution_count": 39,
   "metadata": {},
   "outputs": [
    {
     "data": {
      "text/plain": [
       "<AxesSubplot:>"
      ]
     },
     "execution_count": 39,
     "metadata": {},
     "output_type": "execute_result"
    },
    {
     "data": {
      "image/png": "[encoded data removed]",
      "text/plain": [
       "<Figure size 1152x864 with 1 Axes>"
      ]
     },
     "metadata": {},
     "output_type": "display_data"
    }
   ],
   "source": [
    "yearly_df[yearly_df.index != (2019, 2)].plot(figsize=(16, 12))"
   ]
  },
  {
   "cell_type": "markdown",
   "metadata": {},
   "source": [
    "## 1999~2004"
   ]
  },
  {
   "cell_type": "code",
   "execution_count": 142,
   "metadata": {},
   "outputs": [
    {
     "data": {
      "text/markdown": [
       "* \\# unique songs: 1,599 (= # nodes)\n",
       "* \\# unique artists: 814 (= # nodes)\n",
       "* \\# relationships: 431 (= # edges)\n",
       "* \\# connected components: 511\n",
       "  * Size of largest component: 209 artists\n",
       "* \\# cliques larger than 3: 66 cliques\n",
       "  * Largest clique size: 6 artists\n",
       "  * Largest cliques: \n",
       "<code>[\"Lil' Troy\", 'Yungsta', 'Fat Pat', \"Lil' Will\", 'Hawk', 'Big T']\n",
       "['Ludacris', 'Lil Jon', 'The East Side Boyz', 'Too Short', 'Big Kap', 'Chyna']\n",
       "['Daddy Yankee', 'N.O.R.E.', 'Nina Sky', 'Gem Star', 'Big Mato']</code>`"
      ],
      "text/plain": [
       "<IPython.core.display.Markdown object>"
      ]
     },
     "metadata": {},
     "output_type": "display_data"
    },
    {
     "data": {
      "image/png": "[encoded data removed]",
      "text/plain": [
       "<Figure size 324x216 with 1 Axes>"
      ]
     },
     "metadata": {},
     "output_type": "display_data"
    }
   ],
   "source": [
    "G1 = GraphWrapper(df[(df.Week <= pd.Timestamp(2004,12,31))])\n",
    "\n",
    "display_graph_properties(G1)"
   ]
  },
  {
   "cell_type": "code",
   "execution_count": 24,
   "metadata": {},
   "outputs": [
    {
     "data": {
      "text/markdown": [
       "* \\# unique songs: 1,599\n",
       "* \\# unique artists: 814"
      ],
      "text/plain": [
       "<IPython.core.display.Markdown object>"
      ]
     },
     "metadata": {},
     "output_type": "display_data"
    },
    {
     "data": {
      "text/markdown": [
       "* 814 nodes, 431 edges"
      ],
      "text/plain": [
       "<IPython.core.display.Markdown object>"
      ]
     },
     "metadata": {},
     "output_type": "display_data"
    },
    {
     "data": {
      "text/markdown": [
       "* \\# of connected components: **511**"
      ],
      "text/plain": [
       "<IPython.core.display.Markdown object>"
      ]
     },
     "metadata": {},
     "output_type": "display_data"
    },
    {
     "data": {
      "image/png": "[encoded data removed]",
      "text/plain": [
       "<Figure size 324x216 with 1 Axes>"
      ]
     },
     "metadata": {},
     "output_type": "display_data"
    }
   ],
   "source": [
    "G_9904, artist2ind, ind2artist = make_graph(df[(df.Week <= pd.Timestamp(2004,12,31))], display_info=True)"
   ]
  },
  {
   "cell_type": "code",
   "execution_count": 149,
   "metadata": {},
   "outputs": [
    {
     "name": "stdout",
     "output_type": "stream",
     "text": [
      "['Dixie Chicks', 'Kardinal Offishall', 'Carrie Underwood', 'Dolly Parton', 'Chris Classic', 'Andy Griggs']\n",
      "['Dustin Lynch', 'Digital Farm', 'Jeremih', 'John Legend', 'Andrea Bocelli', 'Belly']\n",
      "['Bo Bice', 'Finger Eleven', 'Foxes', 'Charlie Wilson', 'Andrew McMahon In The Wilderness']\n",
      "['Flo Rida', 'India.Arie', 'Empire Of The Sun', 'Avenged Sevenfold', 'Jay Rock']\n",
      "['Dustin Lynch', 'Digital Farm', 'Jeremih', 'John Legend', 'Andrea Bocelli']\n",
      "['Dustin Lynch', 'Digital Farm', 'Jeremih', 'Andrea Bocelli', 'Belly']\n",
      "['Dustin Lynch', 'Digital Farm', 'John Legend', 'Andrea Bocelli', 'Belly']\n",
      "['Dustin Lynch', 'Jeremih', 'John Legend', 'Andrea Bocelli', 'Belly']\n",
      "['Dustin Lynch', 'Digital Farm', 'Jeremih', 'John Legend', 'Belly']\n",
      "['Digital Farm', 'Jeremih', 'John Legend', 'Andrea Bocelli', 'Belly']\n"
     ]
    }
   ],
   "source": [
    "biggest_cliques = np.argsort(list(map(len, G_9904_cliques)))[::-1][:10]\n",
    "for c in biggest_cliques:\n",
    "    print(list(map(lambda x: ind2artist[x], G_9904_cliques[c])))"
   ]
  },
  {
   "cell_type": "code",
   "execution_count": 153,
   "metadata": {
    "tags": []
   },
   "outputs": [
    {
     "data": {
      "text/html": [
       "<div>\n",
       "<style scoped>\n",
       "    .dataframe tbody tr th:only-of-type {\n",
       "        vertical-align: middle;\n",
       "    }\n",
       "\n",
       "    .dataframe tbody tr th {\n",
       "        vertical-align: top;\n",
       "    }\n",
       "\n",
       "    .dataframe thead th {\n",
       "        text-align: right;\n",
       "    }\n",
       "</style>\n",
       "<table border=\"1\" class=\"dataframe\">\n",
       "  <thead>\n",
       "    <tr style=\"text-align: right;\">\n",
       "      <th></th>\n",
       "      <th>Count</th>\n",
       "    </tr>\n",
       "    <tr>\n",
       "      <th>Connected Component Size</th>\n",
       "      <th></th>\n",
       "    </tr>\n",
       "  </thead>\n",
       "  <tbody>\n",
       "    <tr>\n",
       "      <th>1</th>\n",
       "      <td>446</td>\n",
       "    </tr>\n",
       "    <tr>\n",
       "      <th>2</th>\n",
       "      <td>48</td>\n",
       "    </tr>\n",
       "    <tr>\n",
       "      <th>3</th>\n",
       "      <td>9</td>\n",
       "    </tr>\n",
       "    <tr>\n",
       "      <th>4</th>\n",
       "      <td>3</td>\n",
       "    </tr>\n",
       "    <tr>\n",
       "      <th>6</th>\n",
       "      <td>2</td>\n",
       "    </tr>\n",
       "    <tr>\n",
       "      <th>5</th>\n",
       "      <td>1</td>\n",
       "    </tr>\n",
       "    <tr>\n",
       "      <th>7</th>\n",
       "      <td>1</td>\n",
       "    </tr>\n",
       "    <tr>\n",
       "      <th>209</th>\n",
       "      <td>1</td>\n",
       "    </tr>\n",
       "  </tbody>\n",
       "</table>\n",
       "</div>"
      ],
      "text/plain": [
       "                          Count\n",
       "Connected Component Size       \n",
       "1                           446\n",
       "2                            48\n",
       "3                             9\n",
       "4                             3\n",
       "6                             2\n",
       "5                             1\n",
       "7                             1\n",
       "209                           1"
      ]
     },
     "metadata": {},
     "output_type": "display_data"
    }
   ],
   "source": [
    "cc9904 = list(map(len, nx.connected_components(G_9904)))\n",
    "cc_counts = pd.Series(cc9904).value_counts().rename('Count').to_frame()\n",
    "cc_counts.index = cc_counts.index.rename('Connected Component Size')\n",
    "display(cc_counts)"
   ]
  },
  {
   "cell_type": "markdown",
   "metadata": {},
   "source": [
    "## 2005~2009"
   ]
  },
  {
   "cell_type": "code",
   "execution_count": 143,
   "metadata": {},
   "outputs": [
    {
     "data": {
      "text/markdown": [
       "* \\# unique songs: 1,828 (= # nodes)\n",
       "* \\# unique artists: 781 (= # nodes)\n",
       "* \\# relationships: 540 (= # edges)\n",
       "* \\# connected components: 461\n",
       "  * Size of largest component: 238 artists\n",
       "* \\# cliques larger than 3: 144 cliques\n",
       "  * Largest clique size: 7 artists\n",
       "  * Largest cliques: \n",
       "<code>['Akon', 'DJ Khaled', 'Fat Joe', 'Rick Ross', 'T.I.', \"Lil' Wayne\", 'Baby']\n",
       "['Akon', 'DJ Khaled', 'Fat Joe', 'Rick Ross', \"Lil' Wayne\", 'Baby']\n",
       "['DJ Khaled', 'Fat Joe', 'Rick Ross', 'T.I.', \"Lil' Wayne\", 'Baby']</code>`"
      ],
      "text/plain": [
       "<IPython.core.display.Markdown object>"
      ]
     },
     "metadata": {},
     "output_type": "display_data"
    },
    {
     "data": {
      "image/png": "[encoded data removed]",
      "text/plain": [
       "<Figure size 324x216 with 1 Axes>"
      ]
     },
     "metadata": {},
     "output_type": "display_data"
    }
   ],
   "source": [
    "G2 = GraphWrapper(df[(df.Week > pd.Timestamp(2004,12,31)) & (df.Week <= pd.Timestamp(2009,12,31))])\n",
    "\n",
    "display_graph_properties(G2)"
   ]
  },
  {
   "cell_type": "code",
   "execution_count": 156,
   "metadata": {},
   "outputs": [
    {
     "data": {
      "text/markdown": [
       "* \\# unique songs: 1,828\n",
       "* \\# unique artists: 781"
      ],
      "text/plain": [
       "<IPython.core.display.Markdown object>"
      ]
     },
     "metadata": {},
     "output_type": "display_data"
    },
    {
     "data": {
      "text/markdown": [
       "* 781 nodes, 540 edges"
      ],
      "text/plain": [
       "<IPython.core.display.Markdown object>"
      ]
     },
     "metadata": {},
     "output_type": "display_data"
    },
    {
     "data": {
      "text/markdown": [
       "* \\# of connected components: **461**"
      ],
      "text/plain": [
       "<IPython.core.display.Markdown object>"
      ]
     },
     "metadata": {},
     "output_type": "display_data"
    }
   ],
   "source": [
    "G_0509, artist2ind, ind2artist = make_graph(df[(df.Week > pd.Timestamp(2004,12,31)) & (df.Week <= pd.Timestamp(2009,12,31))], display_info=True)"
   ]
  },
  {
   "cell_type": "code",
   "execution_count": 157,
   "metadata": {},
   "outputs": [],
   "source": [
    "G_0509_cliques = list(nx.enumerate_all_cliques(G_0509))"
   ]
  },
  {
   "cell_type": "code",
   "execution_count": 158,
   "metadata": {},
   "outputs": [
    {
     "name": "stdout",
     "output_type": "stream",
     "text": [
      "['Akon', 'DJ Khaled', 'Fat Joe', 'Rick Ross', 'T.I.', \"Lil' Wayne\", 'Baby']\n",
      "['Akon', 'DJ Khaled', 'Fat Joe', 'Rick Ross', \"Lil' Wayne\", 'Baby']\n",
      "['DJ Khaled', 'Fat Joe', 'Rick Ross', 'T.I.', \"Lil' Wayne\", 'Baby']\n",
      "['Akon', 'Lil Wayne', 'DJ Khaled', 'Fat Joe', 'Rick Ross', 'T.I.']\n",
      "['Akon', 'DJ Khaled', 'Fat Joe', 'Rick Ross', 'T.I.', \"Lil' Wayne\"]\n",
      "['Akon', 'DJ Khaled', 'Fat Joe', 'Rick Ross', 'T.I.', 'Baby']\n",
      "['Akon', 'Lil Wayne', 'DJ Khaled', 'Fat Joe', 'Rick Ross', 'Pitbull']\n",
      "['Akon', 'DJ Khaled', 'Fat Joe', 'T.I.', \"Lil' Wayne\", 'Baby']\n",
      "['Akon', 'DJ Khaled', 'Rick Ross', 'T.I.', \"Lil' Wayne\", 'Baby']\n",
      "['Akon', 'Fat Joe', 'Rick Ross', 'T.I.', \"Lil' Wayne\", 'Baby']\n"
     ]
    }
   ],
   "source": [
    "biggest_cliques = np.argsort(list(map(len, G_0509_cliques)))[::-1][:10]\n",
    "for c in biggest_cliques:\n",
    "    print(list(map(lambda x: ind2artist[x], G_0509_cliques[c])))"
   ]
  },
  {
   "cell_type": "code",
   "execution_count": 159,
   "metadata": {
    "tags": []
   },
   "outputs": [
    {
     "data": {
      "text/html": [
       "<div>\n",
       "<style scoped>\n",
       "    .dataframe tbody tr th:only-of-type {\n",
       "        vertical-align: middle;\n",
       "    }\n",
       "\n",
       "    .dataframe tbody tr th {\n",
       "        vertical-align: top;\n",
       "    }\n",
       "\n",
       "    .dataframe thead th {\n",
       "        text-align: right;\n",
       "    }\n",
       "</style>\n",
       "<table border=\"1\" class=\"dataframe\">\n",
       "  <thead>\n",
       "    <tr style=\"text-align: right;\">\n",
       "      <th></th>\n",
       "      <th>Count</th>\n",
       "    </tr>\n",
       "    <tr>\n",
       "      <th>Connected Component Size</th>\n",
       "      <th></th>\n",
       "    </tr>\n",
       "  </thead>\n",
       "  <tbody>\n",
       "    <tr>\n",
       "      <th>1</th>\n",
       "      <td>402</td>\n",
       "    </tr>\n",
       "    <tr>\n",
       "      <th>2</th>\n",
       "      <td>41</td>\n",
       "    </tr>\n",
       "    <tr>\n",
       "      <th>3</th>\n",
       "      <td>10</td>\n",
       "    </tr>\n",
       "    <tr>\n",
       "      <th>4</th>\n",
       "      <td>6</td>\n",
       "    </tr>\n",
       "    <tr>\n",
       "      <th>5</th>\n",
       "      <td>1</td>\n",
       "    </tr>\n",
       "    <tr>\n",
       "      <th>238</th>\n",
       "      <td>1</td>\n",
       "    </tr>\n",
       "  </tbody>\n",
       "</table>\n",
       "</div>"
      ],
      "text/plain": [
       "                          Count\n",
       "Connected Component Size       \n",
       "1                           402\n",
       "2                            41\n",
       "3                            10\n",
       "4                             6\n",
       "5                             1\n",
       "238                           1"
      ]
     },
     "metadata": {},
     "output_type": "display_data"
    }
   ],
   "source": [
    "cc0509 = list(map(len, nx.connected_components(G_0509)))\n",
    "cc_counts = pd.Series(cc0509).value_counts().rename('Count').to_frame()\n",
    "cc_counts.index = cc_counts.index.rename('Connected Component Size')\n",
    "display(cc_counts)"
   ]
  },
  {
   "cell_type": "code",
   "execution_count": 50,
   "metadata": {},
   "outputs": [
    {
     "data": {
      "text/plain": [
       "[\"Lil' Will\", 'Yungsta', 'Big T', 'Hawk', \"Lil' Troy\", 'Fat Pat']"
      ]
     },
     "execution_count": 50,
     "metadata": {},
     "output_type": "execute_result"
    }
   ],
   "source": [
    "list(map(lambda x: ind2artist[x], connected_comps[3]))"
   ]
  },
  {
   "cell_type": "markdown",
   "metadata": {},
   "source": [
    "## 2010~2014"
   ]
  },
  {
   "cell_type": "code",
   "execution_count": 145,
   "metadata": {},
   "outputs": [
    {
     "data": {
      "text/markdown": [
       "* \\# unique songs: 1,994 (= # nodes)\n",
       "* \\# unique artists: 748 (= # nodes)\n",
       "* \\# relationships: 704 (= # edges)\n",
       "* \\# connected components: 361\n",
       "  * Size of largest component: 304 artists\n",
       "* \\# cliques larger than 3: 407 cliques\n",
       "  * Largest clique size: 7 artists\n",
       "  * Largest cliques: \n",
       "<code>['Lil Wayne', 'Rick Ross', 'T.I.', 'Birdman', 'Meek Mill', 'DJ Khaled', 'Swizz']\n",
       "['Drake', 'Lil Wayne', 'Future', 'Rick Ross', 'Nicki Minaj', 'Birdman', 'DJ Khaled']\n",
       "['Drake', 'Lil Wayne', 'Chris Brown', 'Future', 'Rick Ross', 'Nicki Minaj', 'DJ Khaled']</code>`"
      ],
      "text/plain": [
       "<IPython.core.display.Markdown object>"
      ]
     },
     "metadata": {},
     "output_type": "display_data"
    },
    {
     "data": {
      "image/png": "[encoded data removed]",
      "text/plain": [
       "<Figure size 324x216 with 1 Axes>"
      ]
     },
     "metadata": {},
     "output_type": "display_data"
    }
   ],
   "source": [
    "G3 = GraphWrapper(df[(df.Week > pd.Timestamp(2009,12,31)) & (df.Week <= pd.Timestamp(2014,12,31))])\n",
    "\n",
    "display_graph_properties(G3)"
   ]
  },
  {
   "cell_type": "code",
   "execution_count": 176,
   "metadata": {},
   "outputs": [
    {
     "data": {
      "text/markdown": [
       "* \\# unique songs: 1,994\n",
       "* \\# unique artists: 749"
      ],
      "text/plain": [
       "<IPython.core.display.Markdown object>"
      ]
     },
     "metadata": {},
     "output_type": "display_data"
    },
    {
     "data": {
      "text/markdown": [
       "* 748 nodes, 704 edges"
      ],
      "text/plain": [
       "<IPython.core.display.Markdown object>"
      ]
     },
     "metadata": {},
     "output_type": "display_data"
    },
    {
     "data": {
      "text/markdown": [
       "* \\# of connected components: **361**"
      ],
      "text/plain": [
       "<IPython.core.display.Markdown object>"
      ]
     },
     "metadata": {},
     "output_type": "display_data"
    }
   ],
   "source": [
    "G_1014, artist2ind, ind2artist = make_graph(df[(df.Week > pd.Timestamp(2009,12,31)) & (df.Week <= pd.Timestamp(2014,12,31))], display_info=True)"
   ]
  },
  {
   "cell_type": "code",
   "execution_count": 177,
   "metadata": {},
   "outputs": [
    {
     "name": "stdout",
     "output_type": "stream",
     "text": [
      "['Lil Wayne', 'Rick Ross', 'T.I.', 'Birdman', 'Meek Mill', 'DJ Khaled', 'Swizz']\n",
      "['Drake', 'Lil Wayne', 'Future', 'Rick Ross', 'Nicki Minaj', 'Birdman', 'DJ Khaled']\n",
      "['Drake', 'Lil Wayne', 'Chris Brown', 'Future', 'Rick Ross', 'Nicki Minaj', 'DJ Khaled']\n",
      "['Drake', 'Lil Wayne', 'Rick Ross', 'T.I.', 'Birdman', 'Meek Mill', 'DJ Khaled']\n",
      "['Drake', 'Lil Wayne', 'Chris Brown', 'Rick Ross', 'T.I.', 'DJ Khaled']\n",
      "['Drake', 'Lil Wayne', 'Rick Ross', 'T.I.', 'Birdman', 'Meek Mill']\n",
      "['Drake', 'Lil Wayne', 'Rick Ross', 'Nicki Minaj', 'Birdman', 'DJ Khaled']\n",
      "['Drake', 'Lil Wayne', 'Future', 'Nicki Minaj', 'Birdman', 'DJ Khaled']\n",
      "['Drake', 'Lil Wayne', 'Future', 'Rick Ross', 'Birdman', 'DJ Khaled']\n",
      "['Drake', 'Lil Wayne', 'Future', 'Rick Ross', 'Nicki Minaj', 'DJ Khaled']\n"
     ]
    }
   ],
   "source": [
    "G_1014_cliques = list(nx.enumerate_all_cliques(G_1014))\n",
    "biggest_cliques = np.argsort(list(map(len, G_1014_cliques)))[::-1][:10]\n",
    "for c in biggest_cliques:\n",
    "    print(list(map(lambda x: ind2artist[x], G_1014_cliques[c])))"
   ]
  },
  {
   "cell_type": "code",
   "execution_count": 217,
   "metadata": {},
   "outputs": [
    {
     "data": {
      "text/plain": [
       "407"
      ]
     },
     "execution_count": 217,
     "metadata": {},
     "output_type": "execute_result"
    }
   ],
   "source": [
    "(a > 3).sum()"
   ]
  },
  {
   "cell_type": "code",
   "execution_count": 178,
   "metadata": {
    "tags": []
   },
   "outputs": [
    {
     "data": {
      "text/html": [
       "<div>\n",
       "<style scoped>\n",
       "    .dataframe tbody tr th:only-of-type {\n",
       "        vertical-align: middle;\n",
       "    }\n",
       "\n",
       "    .dataframe tbody tr th {\n",
       "        vertical-align: top;\n",
       "    }\n",
       "\n",
       "    .dataframe thead th {\n",
       "        text-align: right;\n",
       "    }\n",
       "</style>\n",
       "<table border=\"1\" class=\"dataframe\">\n",
       "  <thead>\n",
       "    <tr style=\"text-align: right;\">\n",
       "      <th></th>\n",
       "      <th>Count</th>\n",
       "    </tr>\n",
       "    <tr>\n",
       "      <th>Connected Component Size</th>\n",
       "      <th></th>\n",
       "    </tr>\n",
       "  </thead>\n",
       "  <tbody>\n",
       "    <tr>\n",
       "      <th>1</th>\n",
       "      <td>297</td>\n",
       "    </tr>\n",
       "    <tr>\n",
       "      <th>2</th>\n",
       "      <td>49</td>\n",
       "    </tr>\n",
       "    <tr>\n",
       "      <th>3</th>\n",
       "      <td>10</td>\n",
       "    </tr>\n",
       "    <tr>\n",
       "      <th>4</th>\n",
       "      <td>2</td>\n",
       "    </tr>\n",
       "    <tr>\n",
       "      <th>5</th>\n",
       "      <td>1</td>\n",
       "    </tr>\n",
       "    <tr>\n",
       "      <th>6</th>\n",
       "      <td>1</td>\n",
       "    </tr>\n",
       "    <tr>\n",
       "      <th>304</th>\n",
       "      <td>1</td>\n",
       "    </tr>\n",
       "  </tbody>\n",
       "</table>\n",
       "</div>"
      ],
      "text/plain": [
       "                          Count\n",
       "Connected Component Size       \n",
       "1                           297\n",
       "2                            49\n",
       "3                            10\n",
       "4                             2\n",
       "5                             1\n",
       "6                             1\n",
       "304                           1"
      ]
     },
     "metadata": {},
     "output_type": "display_data"
    }
   ],
   "source": [
    "cc1014 = list(map(len, nx.connected_components(G_1014)))\n",
    "cc_counts = pd.Series(cc1014).value_counts().rename('Count').to_frame()\n",
    "cc_counts.index = cc_counts.index.rename('Connected Component Size')\n",
    "display(cc_counts)"
   ]
  },
  {
   "cell_type": "markdown",
   "metadata": {},
   "source": [
    "## 2015~2019"
   ]
  },
  {
   "cell_type": "code",
   "execution_count": 146,
   "metadata": {},
   "outputs": [
    {
     "data": {
      "text/markdown": [
       "* \\# unique songs: 1,749 (= # nodes)\n",
       "* \\# unique artists: 650 (= # nodes)\n",
       "* \\# relationships: 911 (= # edges)\n",
       "* \\# connected components: 233\n",
       "  * Size of largest component: 364 artists\n",
       "* \\# cliques larger than 3: 493 cliques\n",
       "  * Largest clique size: 7 artists\n",
       "  * Largest cliques: \n",
       "<code>['Travis Scott', 'Offset', '21 Savage', 'Metro Boomin', 'Future', 'Young Thug', 'Drake']\n",
       "['Travis Scott', '21 Savage', 'Metro Boomin', 'Future', 'Young Thug', 'Drake']\n",
       "['J. Cole', 'Dreamville', 'JID', 'Bas', 'EARTHGANG', 'Young Nudy']</code>`"
      ],
      "text/plain": [
       "<IPython.core.display.Markdown object>"
      ]
     },
     "metadata": {},
     "output_type": "display_data"
    },
    {
     "data": {
      "image/png": "[encoded data removed]",
      "text/plain": [
       "<Figure size 324x216 with 1 Axes>"
      ]
     },
     "metadata": {},
     "output_type": "display_data"
    }
   ],
   "source": [
    "G4 = GraphWrapper(df[(df.Week > pd.Timestamp(2015,12,31))])\n",
    "\n",
    "display_graph_properties(G4)"
   ]
  },
  {
   "cell_type": "code",
   "execution_count": 185,
   "metadata": {},
   "outputs": [
    {
     "data": {
      "text/markdown": [
       "* \\# unique songs: 1,749\n",
       "* \\# unique artists: 650"
      ],
      "text/plain": [
       "<IPython.core.display.Markdown object>"
      ]
     },
     "metadata": {},
     "output_type": "display_data"
    },
    {
     "data": {
      "text/markdown": [
       "* 650 nodes, 911 edges"
      ],
      "text/plain": [
       "<IPython.core.display.Markdown object>"
      ]
     },
     "metadata": {},
     "output_type": "display_data"
    },
    {
     "data": {
      "text/markdown": [
       "* \\# of connected components: **233**"
      ],
      "text/plain": [
       "<IPython.core.display.Markdown object>"
      ]
     },
     "metadata": {},
     "output_type": "display_data"
    }
   ],
   "source": [
    "G_1519, artist2ind, ind2artist = make_graph(df[(df.Week > pd.Timestamp(2015,12,31))], display_info=True)"
   ]
  },
  {
   "cell_type": "code",
   "execution_count": 188,
   "metadata": {},
   "outputs": [],
   "source": [
    "G_1519_cliques = list(nx.enumerate_all_cliques(G_1519))"
   ]
  },
  {
   "cell_type": "code",
   "execution_count": 190,
   "metadata": {},
   "outputs": [
    {
     "data": {
      "text/plain": [
       "2743"
      ]
     },
     "execution_count": 190,
     "metadata": {},
     "output_type": "execute_result"
    }
   ],
   "source": [
    "len(G_1519_cliques)"
   ]
  },
  {
   "cell_type": "code",
   "execution_count": 187,
   "metadata": {},
   "outputs": [
    {
     "data": {
      "text/plain": [
       "array([2742, 2732, 2741, 2725, 2726, 2728, 2729, 2730, 2731, 2727])"
      ]
     },
     "execution_count": 187,
     "metadata": {},
     "output_type": "execute_result"
    }
   ],
   "source": [
    "np.argsort(list(map(len, G_1519_cliques)))[::-1][:10]"
   ]
  },
  {
   "cell_type": "code",
   "execution_count": 192,
   "metadata": {},
   "outputs": [
    {
     "name": "stdout",
     "output_type": "stream",
     "text": [
      "['Travis Scott', 'Offset', '21 Savage', 'Metro Boomin', 'Future', 'Young Thug', 'Drake']\n",
      "['Travis Scott', '21 Savage', 'Metro Boomin', 'Future', 'Young Thug', 'Drake']\n",
      "['J. Cole', 'Dreamville', 'JID', 'Bas', 'EARTHGANG', 'Young Nudy']\n",
      "['Travis Scott', 'Offset', 'Quavo', '21 Savage', 'Metro Boomin', 'Drake']\n",
      "['Travis Scott', 'Offset', '21 Savage', 'Metro Boomin', 'Future', 'Young Thug']\n",
      "['Travis Scott', 'Offset', '21 Savage', 'Metro Boomin', 'Future', 'Drake']\n",
      "['Travis Scott', 'Offset', '21 Savage', 'Metro Boomin', 'Young Thug', 'Drake']\n",
      "['Travis Scott', 'Offset', '21 Savage', 'Future', 'Young Thug', 'Drake']\n",
      "['Travis Scott', 'Offset', 'Metro Boomin', 'Future', 'Young Thug', 'Drake']\n",
      "['Travis Scott', 'Offset', '21 Savage', 'Metro Boomin', 'Future', 'Kodak Black']\n"
     ]
    }
   ],
   "source": [
    "G_1519_cliques = list(nx.enumerate_all_cliques(G_1519))\n",
    "biggest_cliques = np.argsort(list(map(len, G_1519_cliques)))[::-1][:10]\n",
    "for c in biggest_cliques:\n",
    "    print(list(map(lambda x: ind2artist[x], G_1519_cliques[c])))"
   ]
  },
  {
   "cell_type": "code",
   "execution_count": 193,
   "metadata": {
    "tags": []
   },
   "outputs": [
    {
     "data": {
      "text/html": [
       "<div>\n",
       "<style scoped>\n",
       "    .dataframe tbody tr th:only-of-type {\n",
       "        vertical-align: middle;\n",
       "    }\n",
       "\n",
       "    .dataframe tbody tr th {\n",
       "        vertical-align: top;\n",
       "    }\n",
       "\n",
       "    .dataframe thead th {\n",
       "        text-align: right;\n",
       "    }\n",
       "</style>\n",
       "<table border=\"1\" class=\"dataframe\">\n",
       "  <thead>\n",
       "    <tr style=\"text-align: right;\">\n",
       "      <th></th>\n",
       "      <th>Count</th>\n",
       "    </tr>\n",
       "    <tr>\n",
       "      <th>Connected Component Size</th>\n",
       "      <th></th>\n",
       "    </tr>\n",
       "  </thead>\n",
       "  <tbody>\n",
       "    <tr>\n",
       "      <th>1</th>\n",
       "      <td>195</td>\n",
       "    </tr>\n",
       "    <tr>\n",
       "      <th>2</th>\n",
       "      <td>25</td>\n",
       "    </tr>\n",
       "    <tr>\n",
       "      <th>3</th>\n",
       "      <td>8</td>\n",
       "    </tr>\n",
       "    <tr>\n",
       "      <th>4</th>\n",
       "      <td>3</td>\n",
       "    </tr>\n",
       "    <tr>\n",
       "      <th>5</th>\n",
       "      <td>1</td>\n",
       "    </tr>\n",
       "    <tr>\n",
       "      <th>364</th>\n",
       "      <td>1</td>\n",
       "    </tr>\n",
       "  </tbody>\n",
       "</table>\n",
       "</div>"
      ],
      "text/plain": [
       "                          Count\n",
       "Connected Component Size       \n",
       "1                           195\n",
       "2                            25\n",
       "3                             8\n",
       "4                             3\n",
       "5                             1\n",
       "364                           1"
      ]
     },
     "metadata": {},
     "output_type": "display_data"
    }
   ],
   "source": [
    "cc1519 = list(map(len, nx.connected_components(G_1519)))\n",
    "cc_counts = pd.Series(cc1519).value_counts().rename('Count').to_frame()\n",
    "cc_counts.index = cc_counts.index.rename('Connected Component Size')\n",
    "display(cc_counts)"
   ]
  },
  {
   "cell_type": "code",
   "execution_count": 194,
   "metadata": {},
   "outputs": [],
   "source": [
    "G = G_1519"
   ]
  },
  {
   "cell_type": "markdown",
   "metadata": {},
   "source": [
    "Keep connected components with 5 or more artsits only."
   ]
  },
  {
   "cell_type": "code",
   "execution_count": 195,
   "metadata": {},
   "outputs": [
    {
     "data": {
      "text/markdown": [
       "* Number of connected components with 5 or more nodes: **38**"
      ],
      "text/plain": [
       "<IPython.core.display.Markdown object>"
      ]
     },
     "metadata": {},
     "output_type": "display_data"
    }
   ],
   "source": [
    "for component in list(nx.connected_components(G)):\n",
    "    if len(component) < 2:\n",
    "        for node in component:\n",
    "            G.remove_node(node)\n",
    "\n",
    "display(Markdown(\n",
    "    \"* Number of connected components with 5 or more nodes: **{}**\".format(\n",
    "        len(list(nx.connected_components(G))))))"
   ]
  },
  {
   "cell_type": "markdown",
   "metadata": {},
   "source": [
    "Network plotting code is based on https://plot.ly/python/network-graphs/."
   ]
  }
 ],
 "metadata": {
  "kernelspec": {
   "display_name": "Python 3",
   "language": "python",
   "name": "python3"
  },
  "language_info": {
   "codemirror_mode": {
    "name": "ipython",
    "version": 3
   },
   "file_extension": ".py",
   "mimetype": "text/x-python",
   "name": "python",
   "nbconvert_exporter": "python",
   "pygments_lexer": "ipython3",
   "version": "3.9.4"
  }
 },
 "nbformat": 4,
 "nbformat_minor": 4
}
