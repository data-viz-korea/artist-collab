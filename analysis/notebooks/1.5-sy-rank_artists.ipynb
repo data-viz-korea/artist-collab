{
 "cells": [
  {
   "cell_type": "code",
   "execution_count": 19,
   "id": "b055bff0-4264-4998-8de2-3d579594856b",
   "metadata": {},
   "outputs": [],
   "source": [
    "from itertools import chain, product, combinations\n",
    "import json\n",
    "from pprint import pprint\n",
    "\n",
    "from scipy import sparse\n",
    "import numpy as np\n",
    "import pandas as pd\n",
    "import seaborn as sns\n",
    "from IPython.display import display, Markdown, IFrame\n",
    "\n",
    "import networkx as nx\n",
    "import plotly.graph_objects as go\n",
    "\n",
    "sns.set_style('whitegrid')"
   ]
  },
  {
   "cell_type": "code",
   "execution_count": 2,
   "id": "4970c95d-0f5b-49f8-acb4-eaf726090b2d",
   "metadata": {},
   "outputs": [],
   "source": [
    "artists = pd.read_json('../data/artists_table.json', orient='table')\n",
    "songs = pd.read_json('../data/songs_table.json', orient='table')"
   ]
  },
  {
   "cell_type": "code",
   "execution_count": 8,
   "id": "9fc746d3-3287-4003-bb15-2c80fc341f08",
   "metadata": {},
   "outputs": [
    {
     "name": "stdout",
     "output_type": "stream",
     "text": [
      "['name',\n",
      " 'week_min',\n",
      " 'week_max',\n",
      " 'weeks_on_chart_total',\n",
      " 'weeks_on_chart_longest',\n",
      " 'weeks_on_chart_mean',\n",
      " 'rank_min',\n",
      " 'rank_mean5',\n",
      " 'rank_mean',\n",
      " 'rank_median',\n",
      " 'rank_min_mean',\n",
      " 'rank_min_mean5',\n",
      " 'rank_min_median',\n",
      " 'num_songs',\n",
      " 'y_min',\n",
      " 'y_max']\n"
     ]
    }
   ],
   "source": [
    "pprint(artists.columns.tolist())"
   ]
  },
  {
   "cell_type": "code",
   "execution_count": 32,
   "id": "9decc349-cce0-417d-bc43-1257915dab5b",
   "metadata": {},
   "outputs": [
    {
     "name": "stdout",
     "output_type": "stream",
     "text": [
      "Minimum rank <= 10:\t 579\n",
      "Median rank <= 16:\t 49\n",
      "Num songs >= 30:\t 13\n"
     ]
    }
   ],
   "source": [
    "print(\"Minimum rank <= 10:\\t\", (artists.rank_min <= 10).sum())\n",
    "print(\"Median rank <= 16:\\t\", (artists.rank_median <= 16).sum())\n",
    "print(\"Num songs >= 30:\\t\", (artists.num_songs >= 50).sum())"
   ]
  },
  {
   "cell_type": "code",
   "execution_count": 33,
   "id": "4d9ce786-8357-4187-a3cf-3dbdd98b32a3",
   "metadata": {},
   "outputs": [],
   "source": [
    "artist_mask = artists.num_songs >= 50"
   ]
  },
  {
   "cell_type": "code",
   "execution_count": 35,
   "id": "beac137b-8640-44ee-8ec8-a531f07fdc85",
   "metadata": {},
   "outputs": [],
   "source": [
    "filtered_artist_ids = artists[artist_mask].index"
   ]
  },
  {
   "cell_type": "markdown",
   "id": "15ce0484-4e0e-4aaf-ab0d-302d65bb9180",
   "metadata": {},
   "source": [
    "Number of songs by most prolific 13 artists"
   ]
  },
  {
   "cell_type": "code",
   "execution_count": 38,
   "id": "c6632f70-7d9d-4612-bc11-0cb8c31b7e06",
   "metadata": {},
   "outputs": [
    {
     "data": {
      "text/plain": [
       "1116"
      ]
     },
     "execution_count": 38,
     "metadata": {},
     "output_type": "execute_result"
    }
   ],
   "source": [
    "songs.apply(lambda row: any(x in filtered_artist_ids for x in row.collaborators_id), axis=1).sum()"
   ]
  },
  {
   "cell_type": "markdown",
   "id": "204ef672-8a1d-4cdb-9893-a7d17d32f6cb",
   "metadata": {},
   "source": [
    "TODO:\n",
    "* Create graph\n",
    "* Set artist positions\n",
    "* perhaps record how many other artists NOT in the network each artist collab'ed with"
   ]
  },
  {
   "cell_type": "code",
   "execution_count": null,
   "id": "7d5ed2a9-250a-4844-8042-e185a1be9bdb",
   "metadata": {},
   "outputs": [],
   "source": [
    "class GraphWrapper(object):\n",
    "    def __init__(self, _df):\n",
    "        songs = _df.sort_values('Weeks.on.chart', ascending=False).sort_values('Weekly.rank').groupby(['Artists', 'Name']).first().reset_index()\n",
    "        artists = set(list(chain(*_df.Collaborators.tolist())))\n",
    "        songs['NumCollaborators'] = songs.Collaborators.apply(len)\n",
    "        \n",
    "        # artist maps\n",
    "        artist2ind = {a: i for i, a in enumerate(sorted(artists))}\n",
    "\n",
    "        G = nx.Graph()\n",
    "        counter = 0\n",
    "        for collaborators in songs.Collaborators:\n",
    "            for artist in collaborators:\n",
    "                ind = artist2ind[artist]\n",
    "                if ind not in G.nodes:\n",
    "                    G.add_node(ind, artist=artist, count=1)\n",
    "                else:\n",
    "                    #if 'artist' not in G.nodes[ind]:\n",
    "                    #    G.nodes[ind]['artist'] = y\n",
    "                    G.nodes[ind]['count'] += 1\n",
    "            \n",
    "            # add edges between each pair(2) of artists in the collaborators list of this song\n",
    "            artist_indices = [artist2ind[artist] for artist in collaborators]\n",
    "            G.add_edges_from(combinations(artist_indices, 2))\n",
    "            # TODO: add weights\n",
    "\n",
    "        self.songs = songs\n",
    "        self.artists = artists\n",
    "        self.artist2ind = artist2ind\n",
    "        self.ind2artist = sorted(artists)\n",
    "        self.graph = G\n",
    "        self._connected_components = None\n",
    "        self._cliques = None\n",
    "            \n",
    "    @property\n",
    "    def connected_components(self):\n",
    "        if self._connected_components is None:\n",
    "            self._connected_components = list(nx.connected_components(self.graph))\n",
    "        return self._connected_components\n",
    "    \n",
    "    @property\n",
    "    def ccs(self):\n",
    "        return self.connected_components\n",
    "    \n",
    "    @property\n",
    "    def cliques(self):\n",
    "        if self._cliques is None:\n",
    "            self._cliques = list(nx.enumerate_all_cliques(self.graph))\n",
    "        return self._cliques"
   ]
  },
  {
   "cell_type": "code",
   "execution_count": null,
   "id": "74304817-9e46-475b-9afa-0fd137716046",
   "metadata": {},
   "outputs": [],
   "source": []
  }
 ],
 "metadata": {
  "kernelspec": {
   "display_name": "Python 3",
   "language": "python",
   "name": "python3"
  },
  "language_info": {
   "codemirror_mode": {
    "name": "ipython",
    "version": 3
   },
   "file_extension": ".py",
   "mimetype": "text/x-python",
   "name": "python",
   "nbconvert_exporter": "python",
   "pygments_lexer": "ipython3",
   "version": "3.9.4"
  }
 },
 "nbformat": 4,
 "nbformat_minor": 5
}
