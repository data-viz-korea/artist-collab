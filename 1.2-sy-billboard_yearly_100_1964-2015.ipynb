{
 "cells": [
  {
   "cell_type": "markdown",
   "metadata": {},
   "source": [
    "# Billboard Year-End Hot 100: Artist Collaboration Network"
   ]
  },
  {
   "cell_type": "markdown",
   "metadata": {},
   "source": [
    "Source data can be found here: https://www.kaggle.com/rakannimer/billboard-lyrics\n",
    "\n",
    "Zoom and hover over nodes to see details.\n",
    "\n",
    "* Node size: number of occurrence of the artist\n",
    "* Node color: number of collaborating artists\n",
    "\n",
    "Scroll down to see how it was plotted."
   ]
  },
  {
   "cell_type": "code",
   "execution_count": 44,
   "metadata": {
    "jupyter": {
     "source_hidden": true
    }
   },
   "outputs": [
    {
     "data": {
      "text/html": [
       "\n",
       "        <iframe\n",
       "            width=\"1000\"\n",
       "            height=\"890\"\n",
       "            src=\"https://suzinyou.github.io/posts/chart.html\"\n",
       "            frameborder=\"0\"\n",
       "            allowfullscreen\n",
       "        ></iframe>\n",
       "        "
      ],
      "text/plain": [
       "<IPython.lib.display.IFrame at 0x131ef5668>"
      ]
     },
     "execution_count": 44,
     "metadata": {},
     "output_type": "execute_result"
    }
   ],
   "source": [
    "IFrame(src='https://suzinyou.github.io/posts/chart.html', width=1000, height=890)"
   ]
  },
  {
   "cell_type": "markdown",
   "metadata": {},
   "source": [
    "## 0. Imports"
   ]
  },
  {
   "cell_type": "code",
   "execution_count": 35,
   "metadata": {},
   "outputs": [],
   "source": [
    "from itertools import chain, combinations\n",
    "import numpy as np\n",
    "import pandas as pd\n",
    "import matplotlib.pyplot as plt\n",
    "import seaborn as sns\n",
    "from IPython.display import display, Markdown, IFrame\n",
    "\n",
    "import networkx as nx\n",
    "import plotly.graph_objects as go"
   ]
  },
  {
   "cell_type": "markdown",
   "metadata": {},
   "source": [
    "## 1. Preprocess data"
   ]
  },
  {
   "cell_type": "code",
   "execution_count": 2,
   "metadata": {},
   "outputs": [
    {
     "data": {
      "text/plain": [
       "Index(['Rank', 'Artist', 'Year'], dtype='object')"
      ]
     },
     "execution_count": 2,
     "metadata": {},
     "output_type": "execute_result"
    }
   ],
   "source": [
    "df = pd.read_csv('../data/billboard_yearly_100_1964-2015.csv')\n",
    "df.drop(['Source', 'Song'], axis=1, inplace=True)\n",
    "df.columns"
   ]
  },
  {
   "cell_type": "markdown",
   "metadata": {},
   "source": [
    "Break up `Artist` into individual artists."
   ]
  },
  {
   "cell_type": "code",
   "execution_count": 3,
   "metadata": {},
   "outputs": [],
   "source": [
    "def get_artists(x):\n",
    "    l = x.split(' featuring ')\n",
    "    ll = []\n",
    "    for y in l:\n",
    "        ll.extend(y.split(' and '))\n",
    "    lll = []\n",
    "    for y in ll:\n",
    "        lll.extend(y.split(' with '))\n",
    "    return ll\n",
    "\n",
    "df.loc[:, 'collaborators'] = df.Artist.apply(get_artists)"
   ]
  },
  {
   "cell_type": "code",
   "execution_count": 4,
   "metadata": {},
   "outputs": [],
   "source": [
    "# Inspect string manually\n",
    "# uniques = np.unique(list(chain(*df.collaborators.tolist())))"
   ]
  },
  {
   "cell_type": "markdown",
   "metadata": {},
   "source": [
    "Split strings that need further splitting."
   ]
  },
  {
   "cell_type": "code",
   "execution_count": 6,
   "metadata": {},
   "outputs": [],
   "source": [
    "to_split = [\n",
    "    # (<artist string>, <split indices>)\n",
    "    ('carly simon  james taylor', [11]),\n",
    "    (\"christina aguilera lil kim m'ya\", [18, 22]),\n",
    "    ('da brat left eye missy elliott', [7, 16]),\n",
    "    ('daryl hall  john oates', [10]),\n",
    "    ('dionne warwick  the spinners', [14]),\n",
    "    ('gary lewis  the playboys',[10]), \n",
    "    ('kenny loggins  stevie nicks', [13]),\n",
    "    ('kenny rogers  kim carnes', [12]),\n",
    "    ('kenny rogers  the first edition', [12]),\n",
    "    ('olivia newtonjohn  cliff richard', [17]),\n",
    "    ('nicki minaj bebe rexha', [11]),\n",
    "    ('roberta flack  donny hathaway', [13]),\n",
    "    ('nelly p diddy', [5]),\n",
    "    ('nelly paul wall', [5]),\n",
    "    ('rihanna kanye west', [7]),\n",
    "    ('paul anka  odia coates', [9]),\n",
    "    ('paul mccartney  wings', [14]),\n",
    "    ('neil diamond  barbra streisand', [12]),\n",
    "    ('neil sedaka  elton john', [11]),\n",
    "    ('murray head  the trindad singers', [11]),\n",
    "    ( 'heavy d  the boyz', [7]),\n",
    "    ('french montana too short or tyga', [14, 18]),  # split at 'or'\n",
    "    ('jessie j ariana grande', [8]),\n",
    "    ('friends dionne warwick gladys knight elton john', [7, 22, 36]),\n",
    "    ('miley cyrus wiz khalifa', [11]),\n",
    "    ('heavy d  the boyz', [7]),\n",
    "    ('kanye west big sean pusha t', [10, 19]),\n",
    "    ( 'kanye west lil wayne',[10]),\n",
    "    ('jermaine dupri da brat', [14]),\n",
    "    ('jerry butler  brenda lee eager', [12]),\n",
    "    ('john travolta  olivia newtonjohn', [13]),\n",
    "    ('joan jett  the blackhearts', [9]),\n",
    "    ('selena gomez  the scene', [12]),\n",
    "    ('stevie nicks  tom petty', [12]),\n",
    "    ('the supremes  the temptations',[12]),\n",
    "    ('tpain ludacris snoop dogg', [5, 14]),\n",
    "    ('ashanti charli baltimore', [7]),\n",
    "    ('neyo afrojack', [4]),\n",
    "]\n",
    "\n",
    "def split_recurse(x, indices):\n",
    "    \"\"\"Helper function to split artist string into individual artists, given specified indices.\"\"\"\n",
    "    idx = indices[0]\n",
    "    if len(indices) == 1:\n",
    "        return [x[:idx], x[idx:]]\n",
    "    else:\n",
    "        return [x[:idx]] + split_recurse(x[idx:], indices[1:])\n",
    "\n",
    "def break_artists(collabs):   \n",
    "    for a, indices in to_split:\n",
    "        if a in collabs:\n",
    "            split_collabs = []\n",
    "            for aa in collabs:\n",
    "                if aa == a:\n",
    "                    split_collabs.extend(split_recurse(aa, indices))\n",
    "                else:\n",
    "                    split_collabs.append(aa)\n",
    "            return split_collabs\n",
    "    return collabs\n",
    "\n",
    "df.loc[:, 'collaborators'] = df.collaborators.apply(break_artists).apply(\n",
    "    # remove preceding/trailing whitespace\n",
    "    lambda x: [y.strip() for y in x]\n",
    ")"
   ]
  },
  {
   "cell_type": "markdown",
   "metadata": {},
   "source": [
    "Join equivalent artist names."
   ]
  },
  {
   "cell_type": "code",
   "execution_count": 7,
   "metadata": {},
   "outputs": [],
   "source": [
    "to_join = [\n",
    "    ['pharrell', 'pharrell williams'],\n",
    "    ['matchbox 20', 'matchbox twenty'],\n",
    "    ['jr walker  the all stars', 'junior walker  the all stars'],\n",
    "    ['john cougar',\n",
    " 'john cougar mellencamp',],\n",
    "    ['jason der\"ulo',\n",
    " 'jason derulo'],\n",
    "    [ 'jay z',\n",
    " 'jayz',],\n",
    "]\n",
    "\n",
    "def join_same_artists(l):\n",
    "    for x, y in to_join:\n",
    "        if y in l:\n",
    "            i = l.index(y)\n",
    "            l[i] = x\n",
    "            return l\n",
    "    return l\n",
    "\n",
    "df.loc[:, 'collaborators'] = df.collaborators.apply(join_same_artists)"
   ]
  },
  {
   "cell_type": "markdown",
   "metadata": {},
   "source": [
    "## 2. Set up the network"
   ]
  },
  {
   "cell_type": "code",
   "execution_count": 8,
   "metadata": {},
   "outputs": [],
   "source": [
    "artist2ind = {a: i for i, a in enumerate(sorted(list(set(chain(*df.collaborators.tolist())))))}"
   ]
  },
  {
   "cell_type": "code",
   "execution_count": 10,
   "metadata": {},
   "outputs": [
    {
     "data": {
      "text/markdown": [
       "* Number of artists: 2277"
      ],
      "text/plain": [
       "<IPython.core.display.Markdown object>"
      ]
     },
     "metadata": {},
     "output_type": "display_data"
    }
   ],
   "source": [
    "display(Markdown(\"* Number of artists: {}\".format(len(artist2ind))))"
   ]
  },
  {
   "cell_type": "markdown",
   "metadata": {},
   "source": [
    "Register nodes to our graph."
   ]
  },
  {
   "cell_type": "code",
   "execution_count": 13,
   "metadata": {},
   "outputs": [],
   "source": [
    "# USE INDEX\n",
    "G = nx.Graph()\n",
    "counter = 0\n",
    "for l in df.collaborators:\n",
    "    for y in l:\n",
    "        ind = artist2ind[y]\n",
    "        if ind not in G.nodes:\n",
    "            G.add_node(ind, artist=y, count=1)\n",
    "        else:\n",
    "            #if 'artist' not in G.nodes[ind]:\n",
    "            #    G.nodes[ind]['artist'] = y\n",
    "            G.nodes[ind]['count'] += 1\n",
    "    \n",
    "    G.add_edges_from(combinations([artist2ind[y] for y in l], 2))\n",
    "    \n",
    "display(Markdown(\n",
    "    \"* {} nodes\\n* {} edges\".format(\n",
    "        G.number_of_nodes(), G.number_of_edges())))"
   ]
  },
  {
   "cell_type": "markdown",
   "metadata": {},
   "source": [
    "Keep connected components with 5 or more artsits only."
   ]
  },
  {
   "cell_type": "code",
   "execution_count": 16,
   "metadata": {},
   "outputs": [
    {
     "data": {
      "text/markdown": [
       "* Number of connected components with 5 or more nodes: **10**"
      ],
      "text/plain": [
       "<IPython.core.display.Markdown object>"
      ]
     },
     "metadata": {},
     "output_type": "display_data"
    }
   ],
   "source": [
    "for component in list(nx.connected_components(G)):\n",
    "    if len(component) < 5:\n",
    "        for node in component:\n",
    "            G.remove_node(node)\n",
    "\n",
    "display(Markdown(\n",
    "    \"* Number of connected components with 5 or more nodes: **{}**\".format(\n",
    "        len(list(nx.connected_components(G))))))"
   ]
  },
  {
   "cell_type": "markdown",
   "metadata": {},
   "source": [
    "Generate good positions for the nodes."
   ]
  },
  {
   "cell_type": "code",
   "execution_count": 17,
   "metadata": {},
   "outputs": [],
   "source": [
    "pos = nx.spring_layout(G, k=0.5, iterations=50)\n",
    "for n, p in pos.items():\n",
    "    G.nodes[n]['pos'] = p"
   ]
  },
  {
   "cell_type": "markdown",
   "metadata": {},
   "source": [
    "The following network plotting code is based on https://plot.ly/python/network-graphs/ with minore adjustments."
   ]
  },
  {
   "cell_type": "code",
   "execution_count": 18,
   "metadata": {},
   "outputs": [],
   "source": [
    "edge_x = []\n",
    "edge_y = []\n",
    "for edge in G.edges():\n",
    "    x0, y0 = G.nodes[edge[0]]['pos']\n",
    "    x1, y1 = G.nodes[edge[1]]['pos']\n",
    "    edge_x.append(x0)\n",
    "    edge_x.append(x1)\n",
    "    edge_x.append(None)\n",
    "    edge_y.append(y0)\n",
    "    edge_y.append(y1)\n",
    "    edge_y.append(None)\n",
    "\n",
    "edge_trace = go.Scatter(\n",
    "    x=edge_x, y=edge_y,\n",
    "    line=dict(width=0.5, color='#888'),\n",
    "    hoverinfo='none',\n",
    "    mode='lines')\n",
    "\n",
    "node_x = []\n",
    "node_y = []\n",
    "num_occurrences = []  # use as node size\n",
    "artists = []  # use in node tooltip\n",
    "for node in G.nodes():\n",
    "    x, y = G.nodes[node]['pos']\n",
    "    node_x.append(x)\n",
    "    node_y.append(y)\n",
    "    num_occurrences.append(G.nodes[node]['count'] + 10)\n",
    "    artists.append(G.nodes[node]['artist'])"
   ]
  },
  {
   "cell_type": "code",
   "execution_count": 19,
   "metadata": {},
   "outputs": [],
   "source": [
    "node_trace = go.Scatter(\n",
    "    x=node_x, y=node_y,\n",
    "    mode='markers',\n",
    "    hoverinfo='text',\n",
    "    marker=dict(\n",
    "        showscale=True,\n",
    "        # colorscale options\n",
    "        #'Greys' | 'YlGnBu' | 'Greens' | 'YlOrRd' | 'Bluered' | 'RdBu' |\n",
    "        #'Reds' | 'Blues' | 'Picnic' | 'Rainbow' | 'Portland' | 'Jet' |\n",
    "        #'Hot' | 'Blackbody' | 'Earth' | 'Electric' | 'Viridis' |\n",
    "        colorscale='YlGnBu',\n",
    "        reversescale=True,\n",
    "        color=[],\n",
    "        size=num_occurrences,\n",
    "        colorbar=dict(\n",
    "            thickness=15,\n",
    "            title='Number of collaborators',\n",
    "            xanchor='left',\n",
    "            titleside='right'\n",
    "        ),\n",
    "        line_width=2))"
   ]
  },
  {
   "cell_type": "code",
   "execution_count": 21,
   "metadata": {},
   "outputs": [],
   "source": [
    "node_adjacencies = []  # Use as node color\n",
    "node_text = []  # Use in node tooltip\n",
    "\n",
    "for i, adjacencies in enumerate(G.adjacency()):\n",
    "    n_collaborators = len(adjacencies[1])\n",
    "    node_adjacencies.append(n_collaborators)\n",
    "    node_text.append(\n",
    "        '{}: appeared {} times, {} collaborators'.format(\n",
    "            artists[i], num_occurrences[i], str(n_collaborators)\n",
    "        )\n",
    "    )\n",
    "\n",
    "node_trace.marker.color = node_adjacencies\n",
    "node_trace.text = node_text"
   ]
  },
  {
   "cell_type": "code",
   "execution_count": 22,
   "metadata": {},
   "outputs": [],
   "source": [
    "fig = go.Figure(\n",
    "    data=[edge_trace, node_trace],\n",
    "    layout=go.Layout(\n",
    "    title='Collaborating Artists in Billboard Year-End Hot 100 (1965-2015)',\n",
    "    titlefont_size=16,\n",
    "    showlegend=False,\n",
    "    hovermode='closest',\n",
    "    margin=dict(b=20,l=5,r=5,t=40),\n",
    "    xaxis=dict(showgrid=False, zeroline=False, showticklabels=False),\n",
    "    yaxis=dict(showgrid=False, zeroline=False, showticklabels=False))\n",
    ")"
   ]
  },
  {
   "cell_type": "markdown",
   "metadata": {},
   "source": [
    "## 3. Network Visualization\n",
    "\n",
    "Zoom and hover over nodes to see details.\n",
    "\n",
    "* Node size: number of occurrence of the artist\n",
    "* Node color: number of collaborating artists"
   ]
  },
  {
   "cell_type": "code",
   "execution_count": 31,
   "metadata": {},
   "outputs": [],
   "source": [
    "#fig.write_html('chart.html')\n",
    "#IFrame(src='chart.html', width=1000, height=890)\n",
    "fig.update_layout(height=850)\n",
    "fig.show()"
   ]
  }
 ],
 "metadata": {
  "kernelspec": {
   "display_name": "Python [conda env:eda] *",
   "language": "python",
   "name": "conda-env-eda-py"
  },
  "language_info": {
   "codemirror_mode": {
    "name": "ipython",
    "version": 3
   },
   "file_extension": ".py",
   "mimetype": "text/x-python",
   "name": "python",
   "nbconvert_exporter": "python",
   "pygments_lexer": "ipython3",
   "version": "3.7.3"
  }
 },
 "nbformat": 4,
 "nbformat_minor": 4
}
